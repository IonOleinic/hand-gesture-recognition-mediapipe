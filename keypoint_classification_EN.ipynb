{
 "cells": [
  {
   "cell_type": "code",
   "execution_count": 1,
   "metadata": {
    "id": "igMyGnjE9hEp"
   },
   "outputs": [],
   "source": [
    "import csv\n",
    "\n",
    "import numpy as np\n",
    "import tensorflow as tf\n",
    "from sklearn.model_selection import train_test_split\n",
    "\n",
    "RANDOM_SEED = 42"
   ]
  },
  {
   "cell_type": "markdown",
   "metadata": {
    "id": "t2HDvhIu9hEr"
   },
   "source": [
    "# Specify each path"
   ]
  },
  {
   "cell_type": "code",
   "execution_count": 2,
   "metadata": {
    "id": "9NvZP2Zn9hEy"
   },
   "outputs": [],
   "source": [
    "dataset = 'model/keypoint_classifier/keypoint.csv'\n",
    "model_save_path = 'model/keypoint_classifier/keypoint_classifier.hdf5'\n",
    "tflite_save_path = 'model/keypoint_classifier/keypoint_classifier.tflite'"
   ]
  },
  {
   "cell_type": "markdown",
   "metadata": {
    "id": "s5oMH7x19hEz"
   },
   "source": [
    "# Set number of classes"
   ]
  },
  {
   "cell_type": "code",
   "execution_count": 3,
   "metadata": {
    "id": "du4kodXL9hEz"
   },
   "outputs": [],
   "source": [
    "NUM_CLASSES = 7"
   ]
  },
  {
   "cell_type": "markdown",
   "metadata": {
    "id": "XjnL0uso9hEz"
   },
   "source": [
    "# Dataset reading"
   ]
  },
  {
   "cell_type": "code",
   "execution_count": 4,
   "metadata": {
    "id": "QT5ZqtEz9hE0"
   },
   "outputs": [],
   "source": [
    "X_dataset = np.loadtxt(dataset, delimiter=',', dtype='float32', usecols=list(range(1, (21 * 2) + 1)))"
   ]
  },
  {
   "cell_type": "code",
   "execution_count": 5,
   "metadata": {
    "id": "QmoKFsp49hE0"
   },
   "outputs": [],
   "source": [
    "y_dataset = np.loadtxt(dataset, delimiter=',', dtype='int32', usecols=(0))"
   ]
  },
  {
   "cell_type": "code",
   "execution_count": 6,
   "metadata": {
    "id": "xQU7JTZ_9hE0"
   },
   "outputs": [],
   "source": [
    "X_train, X_test, y_train, y_test = train_test_split(X_dataset, y_dataset, train_size=0.75, random_state=RANDOM_SEED)"
   ]
  },
  {
   "cell_type": "markdown",
   "metadata": {
    "id": "mxK_lETT9hE0"
   },
   "source": [
    "# Model building"
   ]
  },
  {
   "cell_type": "code",
   "execution_count": 7,
   "metadata": {
    "id": "vHBmUf1t9hE1"
   },
   "outputs": [],
   "source": [
    "model = tf.keras.models.Sequential([\n",
    "    tf.keras.layers.Input((21 * 2, )),\n",
    "    tf.keras.layers.Dropout(0.2),\n",
    "    tf.keras.layers.Dense(20, activation='relu'),\n",
    "    tf.keras.layers.Dropout(0.4),\n",
    "    tf.keras.layers.Dense(10, activation='relu'),\n",
    "    tf.keras.layers.Dense(NUM_CLASSES, activation='softmax')\n",
    "])"
   ]
  },
  {
   "cell_type": "code",
   "execution_count": 8,
   "metadata": {
    "colab": {
     "base_uri": "https://localhost:8080/"
    },
    "id": "ypqky9tc9hE1",
    "outputId": "5db082bb-30e3-4110-bf63-a1ee777ecd46"
   },
   "outputs": [
    {
     "name": "stdout",
     "output_type": "stream",
     "text": [
      "Model: \"sequential\"\n",
      "_________________________________________________________________\n",
      " Layer (type)                Output Shape              Param #   \n",
      "=================================================================\n",
      " dropout (Dropout)           (None, 42)                0         \n",
      "                                                                 \n",
      " dense (Dense)               (None, 20)                860       \n",
      "                                                                 \n",
      " dropout_1 (Dropout)         (None, 20)                0         \n",
      "                                                                 \n",
      " dense_1 (Dense)             (None, 10)                210       \n",
      "                                                                 \n",
      " dense_2 (Dense)             (None, 7)                 77        \n",
      "                                                                 \n",
      "=================================================================\n",
      "Total params: 1147 (4.48 KB)\n",
      "Trainable params: 1147 (4.48 KB)\n",
      "Non-trainable params: 0 (0.00 Byte)\n",
      "_________________________________________________________________\n"
     ]
    }
   ],
   "source": [
    "model.summary()  # tf.keras.utils.plot_model(model, show_shapes=True)"
   ]
  },
  {
   "cell_type": "code",
   "execution_count": 9,
   "metadata": {
    "id": "MbMjOflQ9hE1"
   },
   "outputs": [],
   "source": [
    "# Model checkpoint callback\n",
    "cp_callback = tf.keras.callbacks.ModelCheckpoint(\n",
    "    model_save_path, verbose=1, save_weights_only=False)\n",
    "# Callback for early stopping\n",
    "es_callback = tf.keras.callbacks.EarlyStopping(patience=20, verbose=1)"
   ]
  },
  {
   "cell_type": "code",
   "execution_count": 10,
   "metadata": {
    "id": "c3Dac0M_9hE2"
   },
   "outputs": [],
   "source": [
    "# Model compilation\n",
    "model.compile(\n",
    "    optimizer='adam',\n",
    "    loss='sparse_categorical_crossentropy',\n",
    "    metrics=['accuracy']\n",
    ")"
   ]
  },
  {
   "cell_type": "markdown",
   "metadata": {
    "id": "7XI0j1Iu9hE2"
   },
   "source": [
    "# Model training"
   ]
  },
  {
   "cell_type": "code",
   "execution_count": 11,
   "metadata": {
    "colab": {
     "base_uri": "https://localhost:8080/"
    },
    "id": "WirBl-JE9hE3",
    "outputId": "71b30ca2-8294-4d9d-8aa2-800d90d399de",
    "scrolled": true
   },
   "outputs": [
    {
     "name": "stdout",
     "output_type": "stream",
     "text": [
      "Epoch 1/1000\n",
      "28/42 [===================>..........] - ETA: 0s - loss: 1.9555 - accuracy: 0.1696 \n",
      "Epoch 1: saving model to model/keypoint_classifier\\keypoint_classifier.hdf5\n",
      "42/42 [==============================] - 1s 8ms/step - loss: 1.9279 - accuracy: 0.1894 - val_loss: 1.8164 - val_accuracy: 0.2963\n",
      "Epoch 2/1000\n",
      "29/42 [===================>..........] - ETA: 0s - loss: 1.8153 - accuracy: 0.2613\n",
      "Epoch 2: saving model to model/keypoint_classifier\\keypoint_classifier.hdf5\n",
      "42/42 [==============================] - 0s 4ms/step - loss: 1.7980 - accuracy: 0.2702 - val_loss: 1.6779 - val_accuracy: 0.4490\n"
     ]
    },
    {
     "name": "stderr",
     "output_type": "stream",
     "text": [
      "c:\\program files\\python38\\lib\\site-packages\\keras\\src\\engine\\training.py:3000: UserWarning: You are saving your model as an HDF5 file via `model.save()`. This file format is considered legacy. We recommend using instead the native Keras format, e.g. `model.save('my_model.keras')`.\n",
      "  saving_api.save_model(\n"
     ]
    },
    {
     "name": "stdout",
     "output_type": "stream",
     "text": [
      "Epoch 3/1000\n",
      "32/42 [=====================>........] - ETA: 0s - loss: 1.6959 - accuracy: 0.3164\n",
      "Epoch 3: saving model to model/keypoint_classifier\\keypoint_classifier.hdf5\n",
      "42/42 [==============================] - 0s 4ms/step - loss: 1.6940 - accuracy: 0.3200 - val_loss: 1.5580 - val_accuracy: 0.4823\n",
      "Epoch 4/1000\n",
      "32/42 [=====================>........] - ETA: 0s - loss: 1.6166 - accuracy: 0.3562\n",
      "Epoch 4: saving model to model/keypoint_classifier\\keypoint_classifier.hdf5\n",
      "42/42 [==============================] - 0s 4ms/step - loss: 1.6040 - accuracy: 0.3626 - val_loss: 1.4512 - val_accuracy: 0.4941\n",
      "Epoch 5/1000\n",
      "27/42 [==================>...........] - ETA: 0s - loss: 1.5396 - accuracy: 0.3921\n",
      "Epoch 5: saving model to model/keypoint_classifier\\keypoint_classifier.hdf5\n",
      "42/42 [==============================] - 0s 4ms/step - loss: 1.5215 - accuracy: 0.3978 - val_loss: 1.3501 - val_accuracy: 0.5330\n",
      "Epoch 6/1000\n",
      "35/42 [========================>.....] - ETA: 0s - loss: 1.4701 - accuracy: 0.4212\n",
      "Epoch 6: saving model to model/keypoint_classifier\\keypoint_classifier.hdf5\n",
      "42/42 [==============================] - 0s 3ms/step - loss: 1.4643 - accuracy: 0.4181 - val_loss: 1.2642 - val_accuracy: 0.5713\n",
      "Epoch 7/1000\n",
      "34/42 [=======================>......] - ETA: 0s - loss: 1.4057 - accuracy: 0.4472\n",
      "Epoch 7: saving model to model/keypoint_classifier\\keypoint_classifier.hdf5\n",
      "42/42 [==============================] - 0s 3ms/step - loss: 1.3988 - accuracy: 0.4506 - val_loss: 1.1898 - val_accuracy: 0.6417\n",
      "Epoch 8/1000\n",
      "34/42 [=======================>......] - ETA: 0s - loss: 1.3614 - accuracy: 0.4458\n",
      "Epoch 8: saving model to model/keypoint_classifier\\keypoint_classifier.hdf5\n",
      "42/42 [==============================] - 0s 4ms/step - loss: 1.3612 - accuracy: 0.4485 - val_loss: 1.1347 - val_accuracy: 0.6901\n",
      "Epoch 9/1000\n",
      "31/42 [=====================>........] - ETA: 0s - loss: 1.3191 - accuracy: 0.4725\n",
      "Epoch 9: saving model to model/keypoint_classifier\\keypoint_classifier.hdf5\n",
      "42/42 [==============================] - 0s 4ms/step - loss: 1.3188 - accuracy: 0.4673 - val_loss: 1.0824 - val_accuracy: 0.7082\n",
      "Epoch 10/1000\n",
      "33/42 [======================>.......] - ETA: 0s - loss: 1.2870 - accuracy: 0.4884\n",
      "Epoch 10: saving model to model/keypoint_classifier\\keypoint_classifier.hdf5\n",
      "42/42 [==============================] - 0s 3ms/step - loss: 1.2846 - accuracy: 0.4861 - val_loss: 1.0396 - val_accuracy: 0.7313\n",
      "Epoch 11/1000\n",
      "34/42 [=======================>......] - ETA: 0s - loss: 1.2599 - accuracy: 0.4924\n",
      "Epoch 11: saving model to model/keypoint_classifier\\keypoint_classifier.hdf5\n",
      "42/42 [==============================] - 0s 3ms/step - loss: 1.2591 - accuracy: 0.4938 - val_loss: 0.9992 - val_accuracy: 0.7425\n",
      "Epoch 12/1000\n",
      "35/42 [========================>.....] - ETA: 0s - loss: 1.2131 - accuracy: 0.5167\n",
      "Epoch 12: saving model to model/keypoint_classifier\\keypoint_classifier.hdf5\n",
      "42/42 [==============================] - 0s 3ms/step - loss: 1.2133 - accuracy: 0.5160 - val_loss: 0.9604 - val_accuracy: 0.7701\n",
      "Epoch 13/1000\n",
      "34/42 [=======================>......] - ETA: 0s - loss: 1.1972 - accuracy: 0.5172\n",
      "Epoch 13: saving model to model/keypoint_classifier\\keypoint_classifier.hdf5\n",
      "42/42 [==============================] - 0s 3ms/step - loss: 1.2023 - accuracy: 0.5150 - val_loss: 0.9334 - val_accuracy: 0.7713\n",
      "Epoch 14/1000\n",
      "34/42 [=======================>......] - ETA: 0s - loss: 1.1664 - accuracy: 0.5407\n",
      "Epoch 14: saving model to model/keypoint_classifier\\keypoint_classifier.hdf5\n",
      "42/42 [==============================] - 0s 3ms/step - loss: 1.1742 - accuracy: 0.5351 - val_loss: 0.8989 - val_accuracy: 0.7786\n",
      "Epoch 15/1000\n",
      "32/42 [=====================>........] - ETA: 0s - loss: 1.1585 - accuracy: 0.5439\n",
      "Epoch 15: saving model to model/keypoint_classifier\\keypoint_classifier.hdf5\n",
      "42/42 [==============================] - 0s 4ms/step - loss: 1.1589 - accuracy: 0.5432 - val_loss: 0.8758 - val_accuracy: 0.7927\n",
      "Epoch 16/1000\n",
      "36/42 [========================>.....] - ETA: 0s - loss: 1.1433 - accuracy: 0.5603\n",
      "Epoch 16: saving model to model/keypoint_classifier\\keypoint_classifier.hdf5\n",
      "42/42 [==============================] - 0s 3ms/step - loss: 1.1469 - accuracy: 0.5575 - val_loss: 0.8600 - val_accuracy: 0.7910\n",
      "Epoch 17/1000\n",
      "33/42 [======================>.......] - ETA: 0s - loss: 1.1230 - accuracy: 0.5573\n",
      "Epoch 17: saving model to model/keypoint_classifier\\keypoint_classifier.hdf5\n",
      "42/42 [==============================] - 0s 3ms/step - loss: 1.1283 - accuracy: 0.5564 - val_loss: 0.8405 - val_accuracy: 0.7893\n",
      "Epoch 18/1000\n",
      "34/42 [=======================>......] - ETA: 0s - loss: 1.0994 - accuracy: 0.5671\n",
      "Epoch 18: saving model to model/keypoint_classifier\\keypoint_classifier.hdf5\n",
      "42/42 [==============================] - 0s 4ms/step - loss: 1.0947 - accuracy: 0.5678 - val_loss: 0.8140 - val_accuracy: 0.8017\n",
      "Epoch 19/1000\n",
      "40/42 [===========================>..] - ETA: 0s - loss: 1.1151 - accuracy: 0.5605\n",
      "Epoch 19: saving model to model/keypoint_classifier\\keypoint_classifier.hdf5\n",
      "42/42 [==============================] - 0s 3ms/step - loss: 1.1139 - accuracy: 0.5599 - val_loss: 0.8068 - val_accuracy: 0.8011\n",
      "Epoch 20/1000\n",
      "33/42 [======================>.......] - ETA: 0s - loss: 1.0799 - accuracy: 0.5753\n",
      "Epoch 20: saving model to model/keypoint_classifier\\keypoint_classifier.hdf5\n",
      "42/42 [==============================] - 0s 3ms/step - loss: 1.0846 - accuracy: 0.5776 - val_loss: 0.7841 - val_accuracy: 0.8113\n",
      "Epoch 21/1000\n",
      "31/42 [=====================>........] - ETA: 0s - loss: 1.0723 - accuracy: 0.5799\n",
      "Epoch 21: saving model to model/keypoint_classifier\\keypoint_classifier.hdf5\n",
      "42/42 [==============================] - 0s 3ms/step - loss: 1.0629 - accuracy: 0.5838 - val_loss: 0.7663 - val_accuracy: 0.8113\n",
      "Epoch 22/1000\n",
      "36/42 [========================>.....] - ETA: 0s - loss: 1.0718 - accuracy: 0.5749\n",
      "Epoch 22: saving model to model/keypoint_classifier\\keypoint_classifier.hdf5\n",
      "42/42 [==============================] - 0s 3ms/step - loss: 1.0693 - accuracy: 0.5737 - val_loss: 0.7563 - val_accuracy: 0.8085\n",
      "Epoch 23/1000\n",
      "34/42 [=======================>......] - ETA: 0s - loss: 1.0348 - accuracy: 0.6062\n",
      "Epoch 23: saving model to model/keypoint_classifier\\keypoint_classifier.hdf5\n",
      "42/42 [==============================] - 0s 4ms/step - loss: 1.0359 - accuracy: 0.6011 - val_loss: 0.7342 - val_accuracy: 0.8214\n",
      "Epoch 24/1000\n",
      "37/42 [=========================>....] - ETA: 0s - loss: 1.0374 - accuracy: 0.5965\n",
      "Epoch 24: saving model to model/keypoint_classifier\\keypoint_classifier.hdf5\n",
      "42/42 [==============================] - 0s 4ms/step - loss: 1.0448 - accuracy: 0.5924 - val_loss: 0.7294 - val_accuracy: 0.8225\n",
      "Epoch 25/1000\n",
      "39/42 [==========================>...] - ETA: 0s - loss: 1.0201 - accuracy: 0.6110\n",
      "Epoch 25: saving model to model/keypoint_classifier\\keypoint_classifier.hdf5\n",
      "42/42 [==============================] - 0s 4ms/step - loss: 1.0178 - accuracy: 0.6110 - val_loss: 0.7171 - val_accuracy: 0.8237\n",
      "Epoch 26/1000\n",
      "35/42 [========================>.....] - ETA: 0s - loss: 1.0193 - accuracy: 0.5955\n",
      "Epoch 26: saving model to model/keypoint_classifier\\keypoint_classifier.hdf5\n",
      "42/42 [==============================] - 0s 4ms/step - loss: 1.0203 - accuracy: 0.5966 - val_loss: 0.7007 - val_accuracy: 0.8315\n",
      "Epoch 27/1000\n",
      "34/42 [=======================>......] - ETA: 0s - loss: 1.0305 - accuracy: 0.5933\n",
      "Epoch 27: saving model to model/keypoint_classifier\\keypoint_classifier.hdf5\n",
      "42/42 [==============================] - 0s 3ms/step - loss: 1.0194 - accuracy: 0.5981 - val_loss: 0.7009 - val_accuracy: 0.8439\n",
      "Epoch 28/1000\n",
      "34/42 [=======================>......] - ETA: 0s - loss: 0.9916 - accuracy: 0.6087\n",
      "Epoch 28: saving model to model/keypoint_classifier\\keypoint_classifier.hdf5\n",
      "42/42 [==============================] - 0s 3ms/step - loss: 0.9924 - accuracy: 0.6080 - val_loss: 0.6728 - val_accuracy: 0.8485\n",
      "Epoch 29/1000\n",
      "41/42 [============================>.] - ETA: 0s - loss: 1.0158 - accuracy: 0.5970\n",
      "Epoch 29: saving model to model/keypoint_classifier\\keypoint_classifier.hdf5\n",
      "42/42 [==============================] - 0s 3ms/step - loss: 1.0147 - accuracy: 0.5979 - val_loss: 0.6787 - val_accuracy: 0.8361\n",
      "Epoch 30/1000\n",
      "33/42 [======================>.......] - ETA: 0s - loss: 1.0016 - accuracy: 0.6136\n",
      "Epoch 30: saving model to model/keypoint_classifier\\keypoint_classifier.hdf5\n",
      "42/42 [==============================] - 0s 3ms/step - loss: 0.9984 - accuracy: 0.6095 - val_loss: 0.6654 - val_accuracy: 0.8428\n",
      "Epoch 31/1000\n",
      "35/42 [========================>.....] - ETA: 0s - loss: 0.9932 - accuracy: 0.6096\n",
      "Epoch 31: saving model to model/keypoint_classifier\\keypoint_classifier.hdf5\n",
      "42/42 [==============================] - 0s 3ms/step - loss: 0.9910 - accuracy: 0.6124 - val_loss: 0.6643 - val_accuracy: 0.8580\n",
      "Epoch 32/1000\n",
      "38/42 [==========================>...] - ETA: 0s - loss: 0.9743 - accuracy: 0.6172\n",
      "Epoch 32: saving model to model/keypoint_classifier\\keypoint_classifier.hdf5\n",
      "42/42 [==============================] - 0s 3ms/step - loss: 0.9735 - accuracy: 0.6174 - val_loss: 0.6533 - val_accuracy: 0.8456\n",
      "Epoch 33/1000\n",
      " 1/42 [..............................] - ETA: 0s - loss: 0.9509 - accuracy: 0.6016\n",
      "Epoch 33: saving model to model/keypoint_classifier\\keypoint_classifier.hdf5\n",
      "42/42 [==============================] - 0s 3ms/step - loss: 0.9645 - accuracy: 0.6223 - val_loss: 0.6400 - val_accuracy: 0.8620\n",
      "Epoch 34/1000\n",
      "36/42 [========================>.....] - ETA: 0s - loss: 0.9970 - accuracy: 0.6128\n",
      "Epoch 34: saving model to model/keypoint_classifier\\keypoint_classifier.hdf5\n",
      "42/42 [==============================] - 0s 3ms/step - loss: 0.9948 - accuracy: 0.6131 - val_loss: 0.6393 - val_accuracy: 0.8625\n",
      "Epoch 35/1000\n",
      "31/42 [=====================>........] - ETA: 0s - loss: 0.9649 - accuracy: 0.6227\n",
      "Epoch 35: saving model to model/keypoint_classifier\\keypoint_classifier.hdf5\n",
      "42/42 [==============================] - 0s 3ms/step - loss: 0.9655 - accuracy: 0.6240 - val_loss: 0.6259 - val_accuracy: 0.8682\n",
      "Epoch 36/1000\n",
      "29/42 [===================>..........] - ETA: 0s - loss: 0.9477 - accuracy: 0.6253\n",
      "Epoch 36: saving model to model/keypoint_classifier\\keypoint_classifier.hdf5\n",
      "42/42 [==============================] - 0s 3ms/step - loss: 0.9552 - accuracy: 0.6244 - val_loss: 0.6191 - val_accuracy: 0.8721\n",
      "Epoch 37/1000\n",
      "24/42 [================>.............] - ETA: 0s - loss: 0.9732 - accuracy: 0.6081\n",
      "Epoch 37: saving model to model/keypoint_classifier\\keypoint_classifier.hdf5\n",
      "42/42 [==============================] - 0s 4ms/step - loss: 0.9606 - accuracy: 0.6163 - val_loss: 0.6117 - val_accuracy: 0.8772\n",
      "Epoch 38/1000\n",
      "38/42 [==========================>...] - ETA: 0s - loss: 0.9435 - accuracy: 0.6264\n",
      "Epoch 38: saving model to model/keypoint_classifier\\keypoint_classifier.hdf5\n",
      "42/42 [==============================] - 0s 3ms/step - loss: 0.9475 - accuracy: 0.6257 - val_loss: 0.6045 - val_accuracy: 0.8749\n",
      "Epoch 39/1000\n",
      "40/42 [===========================>..] - ETA: 0s - loss: 0.9364 - accuracy: 0.6361\n",
      "Epoch 39: saving model to model/keypoint_classifier\\keypoint_classifier.hdf5\n",
      "42/42 [==============================] - 0s 4ms/step - loss: 0.9354 - accuracy: 0.6364 - val_loss: 0.6061 - val_accuracy: 0.8682\n",
      "Epoch 40/1000\n",
      "35/42 [========================>.....] - ETA: 0s - loss: 0.9353 - accuracy: 0.6319\n",
      "Epoch 40: saving model to model/keypoint_classifier\\keypoint_classifier.hdf5\n",
      "42/42 [==============================] - 0s 3ms/step - loss: 0.9401 - accuracy: 0.6300 - val_loss: 0.5942 - val_accuracy: 0.8710\n",
      "Epoch 41/1000\n",
      "41/42 [============================>.] - ETA: 0s - loss: 0.9355 - accuracy: 0.6389\n",
      "Epoch 41: saving model to model/keypoint_classifier\\keypoint_classifier.hdf5\n",
      "42/42 [==============================] - 0s 3ms/step - loss: 0.9392 - accuracy: 0.6379 - val_loss: 0.5898 - val_accuracy: 0.8710\n",
      "Epoch 42/1000\n",
      "32/42 [=====================>........] - ETA: 0s - loss: 0.9395 - accuracy: 0.6460\n",
      "Epoch 42: saving model to model/keypoint_classifier\\keypoint_classifier.hdf5\n",
      "42/42 [==============================] - 0s 3ms/step - loss: 0.9404 - accuracy: 0.6409 - val_loss: 0.5906 - val_accuracy: 0.8873\n",
      "Epoch 43/1000\n",
      "34/42 [=======================>......] - ETA: 0s - loss: 0.9376 - accuracy: 0.6347\n",
      "Epoch 43: saving model to model/keypoint_classifier\\keypoint_classifier.hdf5\n",
      "42/42 [==============================] - 0s 3ms/step - loss: 0.9322 - accuracy: 0.6394 - val_loss: 0.5863 - val_accuracy: 0.8828\n",
      "Epoch 44/1000\n",
      "35/42 [========================>.....] - ETA: 0s - loss: 0.9337 - accuracy: 0.6362\n",
      "Epoch 44: saving model to model/keypoint_classifier\\keypoint_classifier.hdf5\n",
      "42/42 [==============================] - 0s 4ms/step - loss: 0.9229 - accuracy: 0.6398 - val_loss: 0.5759 - val_accuracy: 0.8789\n",
      "Epoch 45/1000\n",
      "42/42 [==============================] - ETA: 0s - loss: 0.9492 - accuracy: 0.6313\n",
      "Epoch 45: saving model to model/keypoint_classifier\\keypoint_classifier.hdf5\n",
      "42/42 [==============================] - 0s 3ms/step - loss: 0.9492 - accuracy: 0.6313 - val_loss: 0.5805 - val_accuracy: 0.8879\n",
      "Epoch 46/1000\n",
      "38/42 [==========================>...] - ETA: 0s - loss: 0.9292 - accuracy: 0.6458\n",
      "Epoch 46: saving model to model/keypoint_classifier\\keypoint_classifier.hdf5\n",
      "42/42 [==============================] - 0s 3ms/step - loss: 0.9279 - accuracy: 0.6437 - val_loss: 0.5686 - val_accuracy: 0.8811\n",
      "Epoch 47/1000\n",
      " 1/42 [..............................] - ETA: 0s - loss: 0.8790 - accuracy: 0.6641\n",
      "Epoch 47: saving model to model/keypoint_classifier\\keypoint_classifier.hdf5\n",
      "42/42 [==============================] - 0s 3ms/step - loss: 0.9036 - accuracy: 0.6518 - val_loss: 0.5613 - val_accuracy: 0.8839\n",
      "Epoch 48/1000\n",
      "40/42 [===========================>..] - ETA: 0s - loss: 0.9100 - accuracy: 0.6504\n",
      "Epoch 48: saving model to model/keypoint_classifier\\keypoint_classifier.hdf5\n",
      "42/42 [==============================] - 0s 3ms/step - loss: 0.9092 - accuracy: 0.6514 - val_loss: 0.5525 - val_accuracy: 0.8952\n",
      "Epoch 49/1000\n",
      " 1/42 [..............................] - ETA: 0s - loss: 0.8073 - accuracy: 0.6875\n",
      "Epoch 49: saving model to model/keypoint_classifier\\keypoint_classifier.hdf5\n",
      "42/42 [==============================] - 0s 3ms/step - loss: 0.9213 - accuracy: 0.6417 - val_loss: 0.5655 - val_accuracy: 0.8946\n",
      "Epoch 50/1000\n",
      "41/42 [============================>.] - ETA: 0s - loss: 0.9083 - accuracy: 0.6549\n",
      "Epoch 50: saving model to model/keypoint_classifier\\keypoint_classifier.hdf5\n",
      "42/42 [==============================] - 0s 3ms/step - loss: 0.9111 - accuracy: 0.6545 - val_loss: 0.5505 - val_accuracy: 0.8862\n",
      "Epoch 51/1000\n",
      "30/42 [====================>.........] - ETA: 0s - loss: 0.9162 - accuracy: 0.6438\n",
      "Epoch 51: saving model to model/keypoint_classifier\\keypoint_classifier.hdf5\n",
      "42/42 [==============================] - 0s 4ms/step - loss: 0.9132 - accuracy: 0.6447 - val_loss: 0.5464 - val_accuracy: 0.8997\n",
      "Epoch 52/1000\n",
      " 1/42 [..............................] - ETA: 0s - loss: 0.8407 - accuracy: 0.6406\n",
      "Epoch 52: saving model to model/keypoint_classifier\\keypoint_classifier.hdf5\n",
      "42/42 [==============================] - 0s 3ms/step - loss: 0.9125 - accuracy: 0.6496 - val_loss: 0.5489 - val_accuracy: 0.8896\n",
      "Epoch 53/1000\n",
      "42/42 [==============================] - ETA: 0s - loss: 0.9065 - accuracy: 0.6467\n",
      "Epoch 53: saving model to model/keypoint_classifier\\keypoint_classifier.hdf5\n",
      "42/42 [==============================] - 0s 3ms/step - loss: 0.9065 - accuracy: 0.6467 - val_loss: 0.5601 - val_accuracy: 0.8873\n",
      "Epoch 54/1000\n",
      "34/42 [=======================>......] - ETA: 0s - loss: 0.8696 - accuracy: 0.6629\n",
      "Epoch 54: saving model to model/keypoint_classifier\\keypoint_classifier.hdf5\n",
      "42/42 [==============================] - 0s 3ms/step - loss: 0.8842 - accuracy: 0.6610 - val_loss: 0.5448 - val_accuracy: 0.8941\n",
      "Epoch 55/1000\n",
      "42/42 [==============================] - ETA: 0s - loss: 0.9078 - accuracy: 0.6488\n",
      "Epoch 55: saving model to model/keypoint_classifier\\keypoint_classifier.hdf5\n",
      "42/42 [==============================] - 0s 3ms/step - loss: 0.9078 - accuracy: 0.6488 - val_loss: 0.5458 - val_accuracy: 0.8873\n",
      "Epoch 56/1000\n",
      "36/42 [========================>.....] - ETA: 0s - loss: 0.8858 - accuracy: 0.6506\n",
      "Epoch 56: saving model to model/keypoint_classifier\\keypoint_classifier.hdf5\n",
      "42/42 [==============================] - 0s 3ms/step - loss: 0.8972 - accuracy: 0.6458 - val_loss: 0.5361 - val_accuracy: 0.8845\n",
      "Epoch 57/1000\n",
      " 1/42 [..............................] - ETA: 0s - loss: 0.8937 - accuracy: 0.6641\n",
      "Epoch 57: saving model to model/keypoint_classifier\\keypoint_classifier.hdf5\n",
      "42/42 [==============================] - 0s 3ms/step - loss: 0.8909 - accuracy: 0.6488 - val_loss: 0.5365 - val_accuracy: 0.8896\n",
      "Epoch 58/1000\n",
      "40/42 [===========================>..] - ETA: 0s - loss: 0.8787 - accuracy: 0.6598\n",
      "Epoch 58: saving model to model/keypoint_classifier\\keypoint_classifier.hdf5\n",
      "42/42 [==============================] - 0s 5ms/step - loss: 0.8768 - accuracy: 0.6608 - val_loss: 0.5321 - val_accuracy: 0.8879\n",
      "Epoch 59/1000\n",
      "32/42 [=====================>........] - ETA: 0s - loss: 0.8644 - accuracy: 0.6621\n",
      "Epoch 59: saving model to model/keypoint_classifier\\keypoint_classifier.hdf5\n",
      "42/42 [==============================] - 0s 4ms/step - loss: 0.8652 - accuracy: 0.6616 - val_loss: 0.5123 - val_accuracy: 0.8975\n",
      "Epoch 60/1000\n",
      "35/42 [========================>.....] - ETA: 0s - loss: 0.8913 - accuracy: 0.6587\n",
      "Epoch 60: saving model to model/keypoint_classifier\\keypoint_classifier.hdf5\n",
      "42/42 [==============================] - 0s 3ms/step - loss: 0.8840 - accuracy: 0.6629 - val_loss: 0.5349 - val_accuracy: 0.8862\n",
      "Epoch 61/1000\n",
      "35/42 [========================>.....] - ETA: 0s - loss: 0.8619 - accuracy: 0.6739\n",
      "Epoch 61: saving model to model/keypoint_classifier\\keypoint_classifier.hdf5\n",
      "42/42 [==============================] - 0s 3ms/step - loss: 0.8673 - accuracy: 0.6684 - val_loss: 0.5115 - val_accuracy: 0.9003\n",
      "Epoch 62/1000\n",
      "35/42 [========================>.....] - ETA: 0s - loss: 0.8713 - accuracy: 0.6638\n",
      "Epoch 62: saving model to model/keypoint_classifier\\keypoint_classifier.hdf5\n",
      "42/42 [==============================] - 0s 3ms/step - loss: 0.8713 - accuracy: 0.6629 - val_loss: 0.5135 - val_accuracy: 0.8952\n",
      "Epoch 63/1000\n",
      "34/42 [=======================>......] - ETA: 0s - loss: 0.8792 - accuracy: 0.6549\n",
      "Epoch 63: saving model to model/keypoint_classifier\\keypoint_classifier.hdf5\n",
      "42/42 [==============================] - 0s 3ms/step - loss: 0.8923 - accuracy: 0.6539 - val_loss: 0.5224 - val_accuracy: 0.8901\n",
      "Epoch 64/1000\n",
      "30/42 [====================>.........] - ETA: 0s - loss: 0.8460 - accuracy: 0.6766\n",
      "Epoch 64: saving model to model/keypoint_classifier\\keypoint_classifier.hdf5\n",
      "42/42 [==============================] - 0s 4ms/step - loss: 0.8482 - accuracy: 0.6802 - val_loss: 0.5040 - val_accuracy: 0.8958\n",
      "Epoch 65/1000\n",
      "30/42 [====================>.........] - ETA: 0s - loss: 0.8787 - accuracy: 0.6664\n",
      "Epoch 65: saving model to model/keypoint_classifier\\keypoint_classifier.hdf5\n",
      "42/42 [==============================] - 0s 4ms/step - loss: 0.8689 - accuracy: 0.6691 - val_loss: 0.5143 - val_accuracy: 0.8963\n",
      "Epoch 66/1000\n",
      "36/42 [========================>.....] - ETA: 0s - loss: 0.8752 - accuracy: 0.6615\n",
      "Epoch 66: saving model to model/keypoint_classifier\\keypoint_classifier.hdf5\n",
      "42/42 [==============================] - 0s 3ms/step - loss: 0.8655 - accuracy: 0.6646 - val_loss: 0.4964 - val_accuracy: 0.9008\n",
      "Epoch 67/1000\n",
      "32/42 [=====================>........] - ETA: 0s - loss: 0.8846 - accuracy: 0.6704\n",
      "Epoch 67: saving model to model/keypoint_classifier\\keypoint_classifier.hdf5\n",
      "42/42 [==============================] - 0s 4ms/step - loss: 0.8802 - accuracy: 0.6684 - val_loss: 0.5084 - val_accuracy: 0.8980\n",
      "Epoch 68/1000\n",
      "35/42 [========================>.....] - ETA: 0s - loss: 0.8492 - accuracy: 0.6703\n",
      "Epoch 68: saving model to model/keypoint_classifier\\keypoint_classifier.hdf5\n",
      "42/42 [==============================] - 0s 3ms/step - loss: 0.8559 - accuracy: 0.6669 - val_loss: 0.5141 - val_accuracy: 0.8907\n",
      "Epoch 69/1000\n",
      "35/42 [========================>.....] - ETA: 0s - loss: 0.8804 - accuracy: 0.6580\n",
      "Epoch 69: saving model to model/keypoint_classifier\\keypoint_classifier.hdf5\n",
      "42/42 [==============================] - 0s 3ms/step - loss: 0.8726 - accuracy: 0.6640 - val_loss: 0.5053 - val_accuracy: 0.8963\n",
      "Epoch 70/1000\n",
      "33/42 [======================>.......] - ETA: 0s - loss: 0.8516 - accuracy: 0.6709\n",
      "Epoch 70: saving model to model/keypoint_classifier\\keypoint_classifier.hdf5\n",
      "42/42 [==============================] - 0s 3ms/step - loss: 0.8541 - accuracy: 0.6691 - val_loss: 0.4948 - val_accuracy: 0.8946\n",
      "Epoch 71/1000\n",
      "34/42 [=======================>......] - ETA: 0s - loss: 0.8629 - accuracy: 0.6661\n",
      "Epoch 71: saving model to model/keypoint_classifier\\keypoint_classifier.hdf5\n",
      "42/42 [==============================] - 0s 3ms/step - loss: 0.8669 - accuracy: 0.6631 - val_loss: 0.5054 - val_accuracy: 0.8952\n",
      "Epoch 72/1000\n",
      "33/42 [======================>.......] - ETA: 0s - loss: 0.8684 - accuracy: 0.6648\n",
      "Epoch 72: saving model to model/keypoint_classifier\\keypoint_classifier.hdf5\n",
      "42/42 [==============================] - 0s 3ms/step - loss: 0.8622 - accuracy: 0.6712 - val_loss: 0.5156 - val_accuracy: 0.8800\n",
      "Epoch 73/1000\n",
      " 1/42 [..............................] - ETA: 0s - loss: 1.1008 - accuracy: 0.6172\n",
      "Epoch 73: saving model to model/keypoint_classifier\\keypoint_classifier.hdf5\n",
      "42/42 [==============================] - 0s 3ms/step - loss: 0.8664 - accuracy: 0.6659 - val_loss: 0.4980 - val_accuracy: 0.8986\n",
      "Epoch 74/1000\n",
      "38/42 [==========================>...] - ETA: 0s - loss: 0.8710 - accuracy: 0.6610\n",
      "Epoch 74: saving model to model/keypoint_classifier\\keypoint_classifier.hdf5\n",
      "42/42 [==============================] - 0s 3ms/step - loss: 0.8742 - accuracy: 0.6610 - val_loss: 0.5080 - val_accuracy: 0.8918\n",
      "Epoch 75/1000\n",
      "36/42 [========================>.....] - ETA: 0s - loss: 0.8559 - accuracy: 0.6762\n",
      "Epoch 75: saving model to model/keypoint_classifier\\keypoint_classifier.hdf5\n",
      "42/42 [==============================] - 0s 3ms/step - loss: 0.8618 - accuracy: 0.6695 - val_loss: 0.4921 - val_accuracy: 0.8986\n",
      "Epoch 76/1000\n",
      "38/42 [==========================>...] - ETA: 0s - loss: 0.8467 - accuracy: 0.6756\n",
      "Epoch 76: saving model to model/keypoint_classifier\\keypoint_classifier.hdf5\n",
      "42/42 [==============================] - 0s 3ms/step - loss: 0.8538 - accuracy: 0.6732 - val_loss: 0.4911 - val_accuracy: 0.9037\n",
      "Epoch 77/1000\n",
      "39/42 [==========================>...] - ETA: 0s - loss: 0.8495 - accuracy: 0.6721\n",
      "Epoch 77: saving model to model/keypoint_classifier\\keypoint_classifier.hdf5\n",
      "42/42 [==============================] - 0s 3ms/step - loss: 0.8488 - accuracy: 0.6736 - val_loss: 0.4909 - val_accuracy: 0.8924\n",
      "Epoch 78/1000\n",
      "35/42 [========================>.....] - ETA: 0s - loss: 0.8522 - accuracy: 0.6712\n",
      "Epoch 78: saving model to model/keypoint_classifier\\keypoint_classifier.hdf5\n",
      "42/42 [==============================] - 0s 3ms/step - loss: 0.8532 - accuracy: 0.6708 - val_loss: 0.4857 - val_accuracy: 0.8963\n",
      "Epoch 79/1000\n",
      "38/42 [==========================>...] - ETA: 0s - loss: 0.8645 - accuracy: 0.6669\n",
      "Epoch 79: saving model to model/keypoint_classifier\\keypoint_classifier.hdf5\n",
      "42/42 [==============================] - 0s 3ms/step - loss: 0.8611 - accuracy: 0.6661 - val_loss: 0.5023 - val_accuracy: 0.8873\n",
      "Epoch 80/1000\n",
      "28/42 [===================>..........] - ETA: 0s - loss: 0.8642 - accuracy: 0.6646\n",
      "Epoch 80: saving model to model/keypoint_classifier\\keypoint_classifier.hdf5\n",
      "42/42 [==============================] - 0s 3ms/step - loss: 0.8654 - accuracy: 0.6670 - val_loss: 0.4997 - val_accuracy: 0.8941\n",
      "Epoch 81/1000\n",
      "37/42 [=========================>....] - ETA: 0s - loss: 0.8483 - accuracy: 0.6683\n",
      "Epoch 81: saving model to model/keypoint_classifier\\keypoint_classifier.hdf5\n",
      "42/42 [==============================] - 0s 3ms/step - loss: 0.8499 - accuracy: 0.6706 - val_loss: 0.4892 - val_accuracy: 0.8941\n",
      "Epoch 82/1000\n",
      "35/42 [========================>.....] - ETA: 0s - loss: 0.8346 - accuracy: 0.6763\n",
      "Epoch 82: saving model to model/keypoint_classifier\\keypoint_classifier.hdf5\n",
      "42/42 [==============================] - 0s 3ms/step - loss: 0.8352 - accuracy: 0.6776 - val_loss: 0.4816 - val_accuracy: 0.8969\n",
      "Epoch 83/1000\n",
      "39/42 [==========================>...] - ETA: 0s - loss: 0.8596 - accuracy: 0.6651\n",
      "Epoch 83: saving model to model/keypoint_classifier\\keypoint_classifier.hdf5\n",
      "42/42 [==============================] - 0s 3ms/step - loss: 0.8610 - accuracy: 0.6663 - val_loss: 0.4907 - val_accuracy: 0.8924\n",
      "Epoch 84/1000\n",
      "35/42 [========================>.....] - ETA: 0s - loss: 0.8416 - accuracy: 0.6777\n",
      "Epoch 84: saving model to model/keypoint_classifier\\keypoint_classifier.hdf5\n",
      "42/42 [==============================] - 0s 4ms/step - loss: 0.8561 - accuracy: 0.6697 - val_loss: 0.4889 - val_accuracy: 0.8963\n",
      "Epoch 85/1000\n",
      "30/42 [====================>.........] - ETA: 0s - loss: 0.8473 - accuracy: 0.6810\n",
      "Epoch 85: saving model to model/keypoint_classifier\\keypoint_classifier.hdf5\n",
      "42/42 [==============================] - 0s 3ms/step - loss: 0.8343 - accuracy: 0.6834 - val_loss: 0.4821 - val_accuracy: 0.8918\n",
      "Epoch 86/1000\n",
      "33/42 [======================>.......] - ETA: 0s - loss: 0.8530 - accuracy: 0.6733\n",
      "Epoch 86: saving model to model/keypoint_classifier\\keypoint_classifier.hdf5\n",
      "42/42 [==============================] - 0s 3ms/step - loss: 0.8436 - accuracy: 0.6757 - val_loss: 0.4772 - val_accuracy: 0.8975\n",
      "Epoch 87/1000\n",
      "26/42 [=================>............] - ETA: 0s - loss: 0.8411 - accuracy: 0.6701\n",
      "Epoch 87: saving model to model/keypoint_classifier\\keypoint_classifier.hdf5\n",
      "42/42 [==============================] - 0s 4ms/step - loss: 0.8461 - accuracy: 0.6669 - val_loss: 0.4731 - val_accuracy: 0.8997\n",
      "Epoch 88/1000\n",
      "30/42 [====================>.........] - ETA: 0s - loss: 0.8297 - accuracy: 0.6794\n",
      "Epoch 88: saving model to model/keypoint_classifier\\keypoint_classifier.hdf5\n",
      "42/42 [==============================] - 0s 4ms/step - loss: 0.8321 - accuracy: 0.6785 - val_loss: 0.4762 - val_accuracy: 0.8963\n",
      "Epoch 89/1000\n",
      "31/42 [=====================>........] - ETA: 0s - loss: 0.8272 - accuracy: 0.6883\n",
      "Epoch 89: saving model to model/keypoint_classifier\\keypoint_classifier.hdf5\n",
      "42/42 [==============================] - 0s 4ms/step - loss: 0.8286 - accuracy: 0.6864 - val_loss: 0.4722 - val_accuracy: 0.8941\n",
      "Epoch 90/1000\n",
      "32/42 [=====================>........] - ETA: 0s - loss: 0.8645 - accuracy: 0.6724\n",
      "Epoch 90: saving model to model/keypoint_classifier\\keypoint_classifier.hdf5\n",
      "42/42 [==============================] - 0s 4ms/step - loss: 0.8551 - accuracy: 0.6766 - val_loss: 0.4860 - val_accuracy: 0.8946\n",
      "Epoch 91/1000\n",
      "30/42 [====================>.........] - ETA: 0s - loss: 0.8312 - accuracy: 0.6784\n",
      "Epoch 91: saving model to model/keypoint_classifier\\keypoint_classifier.hdf5\n",
      "42/42 [==============================] - 0s 4ms/step - loss: 0.8413 - accuracy: 0.6821 - val_loss: 0.4777 - val_accuracy: 0.8918\n",
      "Epoch 92/1000\n",
      "30/42 [====================>.........] - ETA: 0s - loss: 0.8417 - accuracy: 0.6758\n",
      "Epoch 92: saving model to model/keypoint_classifier\\keypoint_classifier.hdf5\n",
      "42/42 [==============================] - 0s 4ms/step - loss: 0.8354 - accuracy: 0.6804 - val_loss: 0.4764 - val_accuracy: 0.8930\n",
      "Epoch 93/1000\n",
      "32/42 [=====================>........] - ETA: 0s - loss: 0.8380 - accuracy: 0.6824\n",
      "Epoch 93: saving model to model/keypoint_classifier\\keypoint_classifier.hdf5\n",
      "42/42 [==============================] - 0s 4ms/step - loss: 0.8358 - accuracy: 0.6817 - val_loss: 0.4752 - val_accuracy: 0.8924\n",
      "Epoch 94/1000\n",
      "31/42 [=====================>........] - ETA: 0s - loss: 0.8306 - accuracy: 0.6799\n",
      "Epoch 94: saving model to model/keypoint_classifier\\keypoint_classifier.hdf5\n",
      "42/42 [==============================] - 0s 4ms/step - loss: 0.8272 - accuracy: 0.6789 - val_loss: 0.4660 - val_accuracy: 0.9025\n",
      "Epoch 95/1000\n",
      "31/42 [=====================>........] - ETA: 0s - loss: 0.8557 - accuracy: 0.6764\n",
      "Epoch 95: saving model to model/keypoint_classifier\\keypoint_classifier.hdf5\n",
      "42/42 [==============================] - 0s 4ms/step - loss: 0.8481 - accuracy: 0.6787 - val_loss: 0.4669 - val_accuracy: 0.8969\n",
      "Epoch 96/1000\n",
      "32/42 [=====================>........] - ETA: 0s - loss: 0.8207 - accuracy: 0.6865\n",
      "Epoch 96: saving model to model/keypoint_classifier\\keypoint_classifier.hdf5\n",
      "42/42 [==============================] - 0s 3ms/step - loss: 0.8151 - accuracy: 0.6900 - val_loss: 0.4685 - val_accuracy: 0.8963\n",
      "Epoch 97/1000\n",
      "31/42 [=====================>........] - ETA: 0s - loss: 0.8359 - accuracy: 0.6855\n",
      "Epoch 97: saving model to model/keypoint_classifier\\keypoint_classifier.hdf5\n",
      "42/42 [==============================] - 0s 4ms/step - loss: 0.8379 - accuracy: 0.6817 - val_loss: 0.4794 - val_accuracy: 0.8879\n",
      "Epoch 98/1000\n",
      "32/42 [=====================>........] - ETA: 0s - loss: 0.8257 - accuracy: 0.6797\n",
      "Epoch 98: saving model to model/keypoint_classifier\\keypoint_classifier.hdf5\n",
      "42/42 [==============================] - 0s 4ms/step - loss: 0.8172 - accuracy: 0.6828 - val_loss: 0.4639 - val_accuracy: 0.8952\n",
      "Epoch 99/1000\n",
      "30/42 [====================>.........] - ETA: 0s - loss: 0.8157 - accuracy: 0.7013\n",
      "Epoch 99: saving model to model/keypoint_classifier\\keypoint_classifier.hdf5\n",
      "42/42 [==============================] - 0s 4ms/step - loss: 0.8271 - accuracy: 0.6945 - val_loss: 0.4612 - val_accuracy: 0.8975\n",
      "Epoch 100/1000\n",
      "29/42 [===================>..........] - ETA: 0s - loss: 0.8069 - accuracy: 0.6969\n",
      "Epoch 100: saving model to model/keypoint_classifier\\keypoint_classifier.hdf5\n",
      "42/42 [==============================] - 0s 4ms/step - loss: 0.8210 - accuracy: 0.6875 - val_loss: 0.4645 - val_accuracy: 0.8958\n",
      "Epoch 101/1000\n",
      "32/42 [=====================>........] - ETA: 0s - loss: 0.8274 - accuracy: 0.6821\n",
      "Epoch 101: saving model to model/keypoint_classifier\\keypoint_classifier.hdf5\n",
      "42/42 [==============================] - 0s 3ms/step - loss: 0.8240 - accuracy: 0.6862 - val_loss: 0.4711 - val_accuracy: 0.8851\n",
      "Epoch 102/1000\n",
      "30/42 [====================>.........] - ETA: 0s - loss: 0.8719 - accuracy: 0.6661\n",
      "Epoch 102: saving model to model/keypoint_classifier\\keypoint_classifier.hdf5\n",
      "42/42 [==============================] - 0s 4ms/step - loss: 0.8601 - accuracy: 0.6693 - val_loss: 0.4742 - val_accuracy: 0.8930\n",
      "Epoch 103/1000\n",
      "33/42 [======================>.......] - ETA: 0s - loss: 0.8464 - accuracy: 0.6847\n",
      "Epoch 103: saving model to model/keypoint_classifier\\keypoint_classifier.hdf5\n",
      "42/42 [==============================] - 0s 4ms/step - loss: 0.8376 - accuracy: 0.6834 - val_loss: 0.4646 - val_accuracy: 0.8986\n",
      "Epoch 104/1000\n",
      "30/42 [====================>.........] - ETA: 0s - loss: 0.8417 - accuracy: 0.6724\n",
      "Epoch 104: saving model to model/keypoint_classifier\\keypoint_classifier.hdf5\n",
      "42/42 [==============================] - 0s 4ms/step - loss: 0.8413 - accuracy: 0.6766 - val_loss: 0.4713 - val_accuracy: 0.8907\n",
      "Epoch 105/1000\n",
      "30/42 [====================>.........] - ETA: 0s - loss: 0.8043 - accuracy: 0.6966\n",
      "Epoch 105: saving model to model/keypoint_classifier\\keypoint_classifier.hdf5\n",
      "42/42 [==============================] - 0s 4ms/step - loss: 0.8079 - accuracy: 0.6950 - val_loss: 0.4686 - val_accuracy: 0.8963\n",
      "Epoch 106/1000\n",
      "29/42 [===================>..........] - ETA: 0s - loss: 0.8222 - accuracy: 0.6891\n",
      "Epoch 106: saving model to model/keypoint_classifier\\keypoint_classifier.hdf5\n",
      "42/42 [==============================] - 0s 4ms/step - loss: 0.8159 - accuracy: 0.6917 - val_loss: 0.4562 - val_accuracy: 0.9076\n",
      "Epoch 107/1000\n",
      "31/42 [=====================>........] - ETA: 0s - loss: 0.8446 - accuracy: 0.6757\n",
      "Epoch 107: saving model to model/keypoint_classifier\\keypoint_classifier.hdf5\n",
      "42/42 [==============================] - 0s 4ms/step - loss: 0.8386 - accuracy: 0.6796 - val_loss: 0.4751 - val_accuracy: 0.8913\n",
      "Epoch 108/1000\n",
      "32/42 [=====================>........] - ETA: 0s - loss: 0.8236 - accuracy: 0.6841\n",
      "Epoch 108: saving model to model/keypoint_classifier\\keypoint_classifier.hdf5\n",
      "42/42 [==============================] - 0s 4ms/step - loss: 0.8190 - accuracy: 0.6877 - val_loss: 0.4572 - val_accuracy: 0.9031\n",
      "Epoch 109/1000\n",
      "31/42 [=====================>........] - ETA: 0s - loss: 0.8225 - accuracy: 0.6905\n",
      "Epoch 109: saving model to model/keypoint_classifier\\keypoint_classifier.hdf5\n",
      "42/42 [==============================] - 0s 3ms/step - loss: 0.8233 - accuracy: 0.6905 - val_loss: 0.4636 - val_accuracy: 0.8918\n",
      "Epoch 110/1000\n",
      "32/42 [=====================>........] - ETA: 0s - loss: 0.8091 - accuracy: 0.6887\n",
      "Epoch 110: saving model to model/keypoint_classifier\\keypoint_classifier.hdf5\n",
      "42/42 [==============================] - 0s 3ms/step - loss: 0.8164 - accuracy: 0.6841 - val_loss: 0.4575 - val_accuracy: 0.8963\n",
      "Epoch 111/1000\n",
      "30/42 [====================>.........] - ETA: 0s - loss: 0.8131 - accuracy: 0.6870\n",
      "Epoch 111: saving model to model/keypoint_classifier\\keypoint_classifier.hdf5\n",
      "42/42 [==============================] - 0s 4ms/step - loss: 0.8121 - accuracy: 0.6892 - val_loss: 0.4632 - val_accuracy: 0.8873\n",
      "Epoch 112/1000\n",
      "31/42 [=====================>........] - ETA: 0s - loss: 0.8187 - accuracy: 0.6860\n",
      "Epoch 112: saving model to model/keypoint_classifier\\keypoint_classifier.hdf5\n",
      "42/42 [==============================] - 0s 4ms/step - loss: 0.8100 - accuracy: 0.6873 - val_loss: 0.4573 - val_accuracy: 0.8986\n",
      "Epoch 113/1000\n",
      "34/42 [=======================>......] - ETA: 0s - loss: 0.8073 - accuracy: 0.6852\n",
      "Epoch 113: saving model to model/keypoint_classifier\\keypoint_classifier.hdf5\n",
      "42/42 [==============================] - 0s 3ms/step - loss: 0.7974 - accuracy: 0.6905 - val_loss: 0.4511 - val_accuracy: 0.8963\n",
      "Epoch 114/1000\n",
      "29/42 [===================>..........] - ETA: 0s - loss: 0.8068 - accuracy: 0.6956\n",
      "Epoch 114: saving model to model/keypoint_classifier\\keypoint_classifier.hdf5\n",
      "42/42 [==============================] - 0s 4ms/step - loss: 0.8016 - accuracy: 0.6964 - val_loss: 0.4480 - val_accuracy: 0.8997\n",
      "Epoch 115/1000\n",
      "33/42 [======================>.......] - ETA: 0s - loss: 0.8110 - accuracy: 0.6809\n",
      "Epoch 115: saving model to model/keypoint_classifier\\keypoint_classifier.hdf5\n",
      "42/42 [==============================] - 0s 3ms/step - loss: 0.7991 - accuracy: 0.6898 - val_loss: 0.4550 - val_accuracy: 0.8952\n",
      "Epoch 116/1000\n",
      "32/42 [=====================>........] - ETA: 0s - loss: 0.7953 - accuracy: 0.7007\n",
      "Epoch 116: saving model to model/keypoint_classifier\\keypoint_classifier.hdf5\n",
      "42/42 [==============================] - 0s 4ms/step - loss: 0.8083 - accuracy: 0.6952 - val_loss: 0.4508 - val_accuracy: 0.8975\n",
      "Epoch 117/1000\n",
      "31/42 [=====================>........] - ETA: 0s - loss: 0.8214 - accuracy: 0.6804\n",
      "Epoch 117: saving model to model/keypoint_classifier\\keypoint_classifier.hdf5\n",
      "42/42 [==============================] - 0s 4ms/step - loss: 0.8155 - accuracy: 0.6836 - val_loss: 0.4543 - val_accuracy: 0.8946\n",
      "Epoch 118/1000\n",
      "30/42 [====================>.........] - ETA: 0s - loss: 0.7945 - accuracy: 0.6987\n",
      "Epoch 118: saving model to model/keypoint_classifier\\keypoint_classifier.hdf5\n",
      "42/42 [==============================] - 0s 4ms/step - loss: 0.8011 - accuracy: 0.6903 - val_loss: 0.4602 - val_accuracy: 0.8997\n",
      "Epoch 119/1000\n",
      "28/42 [===================>..........] - ETA: 0s - loss: 0.8131 - accuracy: 0.6875\n",
      "Epoch 119: saving model to model/keypoint_classifier\\keypoint_classifier.hdf5\n",
      "42/42 [==============================] - 0s 4ms/step - loss: 0.8126 - accuracy: 0.6862 - val_loss: 0.4535 - val_accuracy: 0.8997\n",
      "Epoch 120/1000\n",
      "32/42 [=====================>........] - ETA: 0s - loss: 0.8062 - accuracy: 0.6938\n",
      "Epoch 120: saving model to model/keypoint_classifier\\keypoint_classifier.hdf5\n",
      "42/42 [==============================] - 0s 3ms/step - loss: 0.8010 - accuracy: 0.6935 - val_loss: 0.4466 - val_accuracy: 0.8941\n",
      "Epoch 121/1000\n",
      "33/42 [======================>.......] - ETA: 0s - loss: 0.8135 - accuracy: 0.6889\n",
      "Epoch 121: saving model to model/keypoint_classifier\\keypoint_classifier.hdf5\n",
      "42/42 [==============================] - 0s 3ms/step - loss: 0.8108 - accuracy: 0.6920 - val_loss: 0.4577 - val_accuracy: 0.8856\n",
      "Epoch 122/1000\n",
      "34/42 [=======================>......] - ETA: 0s - loss: 0.8045 - accuracy: 0.6990\n",
      "Epoch 122: saving model to model/keypoint_classifier\\keypoint_classifier.hdf5\n",
      "42/42 [==============================] - 0s 3ms/step - loss: 0.8110 - accuracy: 0.6956 - val_loss: 0.4522 - val_accuracy: 0.8924\n",
      "Epoch 123/1000\n",
      "33/42 [======================>.......] - ETA: 0s - loss: 0.8039 - accuracy: 0.6972\n",
      "Epoch 123: saving model to model/keypoint_classifier\\keypoint_classifier.hdf5\n",
      "42/42 [==============================] - 0s 3ms/step - loss: 0.8005 - accuracy: 0.6980 - val_loss: 0.4574 - val_accuracy: 0.8958\n",
      "Epoch 124/1000\n",
      "32/42 [=====================>........] - ETA: 0s - loss: 0.8252 - accuracy: 0.6863\n",
      "Epoch 124: saving model to model/keypoint_classifier\\keypoint_classifier.hdf5\n",
      "42/42 [==============================] - 0s 4ms/step - loss: 0.8046 - accuracy: 0.6922 - val_loss: 0.4636 - val_accuracy: 0.8839\n",
      "Epoch 125/1000\n",
      "32/42 [=====================>........] - ETA: 0s - loss: 0.8094 - accuracy: 0.6987\n",
      "Epoch 125: saving model to model/keypoint_classifier\\keypoint_classifier.hdf5\n",
      "42/42 [==============================] - 0s 4ms/step - loss: 0.7992 - accuracy: 0.6990 - val_loss: 0.4429 - val_accuracy: 0.8890\n",
      "Epoch 126/1000\n",
      "33/42 [======================>.......] - ETA: 0s - loss: 0.8431 - accuracy: 0.6731\n",
      "Epoch 126: saving model to model/keypoint_classifier\\keypoint_classifier.hdf5\n",
      "42/42 [==============================] - 0s 3ms/step - loss: 0.8374 - accuracy: 0.6761 - val_loss: 0.4503 - val_accuracy: 0.8941\n",
      "Epoch 127/1000\n",
      "30/42 [====================>.........] - ETA: 0s - loss: 0.8068 - accuracy: 0.6896\n",
      "Epoch 127: saving model to model/keypoint_classifier\\keypoint_classifier.hdf5\n",
      "42/42 [==============================] - 0s 4ms/step - loss: 0.8093 - accuracy: 0.6932 - val_loss: 0.4479 - val_accuracy: 0.8969\n",
      "Epoch 128/1000\n",
      "33/42 [======================>.......] - ETA: 0s - loss: 0.8187 - accuracy: 0.6861\n",
      "Epoch 128: saving model to model/keypoint_classifier\\keypoint_classifier.hdf5\n",
      "42/42 [==============================] - 0s 4ms/step - loss: 0.8129 - accuracy: 0.6885 - val_loss: 0.4459 - val_accuracy: 0.8913\n",
      "Epoch 129/1000\n",
      "32/42 [=====================>........] - ETA: 0s - loss: 0.7931 - accuracy: 0.6990\n",
      "Epoch 129: saving model to model/keypoint_classifier\\keypoint_classifier.hdf5\n",
      "42/42 [==============================] - 0s 4ms/step - loss: 0.7880 - accuracy: 0.6992 - val_loss: 0.4436 - val_accuracy: 0.8952\n",
      "Epoch 130/1000\n",
      "30/42 [====================>.........] - ETA: 0s - loss: 0.7956 - accuracy: 0.6924\n",
      "Epoch 130: saving model to model/keypoint_classifier\\keypoint_classifier.hdf5\n",
      "42/42 [==============================] - 0s 4ms/step - loss: 0.8006 - accuracy: 0.6926 - val_loss: 0.4384 - val_accuracy: 0.8941\n",
      "Epoch 131/1000\n",
      "31/42 [=====================>........] - ETA: 0s - loss: 0.7827 - accuracy: 0.7077\n",
      "Epoch 131: saving model to model/keypoint_classifier\\keypoint_classifier.hdf5\n",
      "42/42 [==============================] - 0s 4ms/step - loss: 0.8006 - accuracy: 0.6984 - val_loss: 0.4481 - val_accuracy: 0.8952\n",
      "Epoch 132/1000\n",
      "29/42 [===================>..........] - ETA: 0s - loss: 0.7990 - accuracy: 0.6864\n",
      "Epoch 132: saving model to model/keypoint_classifier\\keypoint_classifier.hdf5\n",
      "42/42 [==============================] - 0s 4ms/step - loss: 0.8059 - accuracy: 0.6883 - val_loss: 0.4448 - val_accuracy: 0.8907\n",
      "Epoch 133/1000\n",
      "20/42 [=============>................] - ETA: 0s - loss: 0.8441 - accuracy: 0.6809\n",
      "Epoch 133: saving model to model/keypoint_classifier\\keypoint_classifier.hdf5\n",
      "42/42 [==============================] - 0s 4ms/step - loss: 0.8163 - accuracy: 0.6928 - val_loss: 0.4497 - val_accuracy: 0.8980\n",
      "Epoch 134/1000\n",
      "29/42 [===================>..........] - ETA: 0s - loss: 0.8003 - accuracy: 0.6891\n",
      "Epoch 134: saving model to model/keypoint_classifier\\keypoint_classifier.hdf5\n",
      "42/42 [==============================] - 0s 4ms/step - loss: 0.8041 - accuracy: 0.6892 - val_loss: 0.4408 - val_accuracy: 0.8969\n",
      "Epoch 135/1000\n",
      "31/42 [=====================>........] - ETA: 0s - loss: 0.8038 - accuracy: 0.6832\n",
      "Epoch 135: saving model to model/keypoint_classifier\\keypoint_classifier.hdf5\n",
      "42/42 [==============================] - 0s 4ms/step - loss: 0.8097 - accuracy: 0.6823 - val_loss: 0.4501 - val_accuracy: 0.8885\n",
      "Epoch 136/1000\n",
      "31/42 [=====================>........] - ETA: 0s - loss: 0.8148 - accuracy: 0.6852\n",
      "Epoch 136: saving model to model/keypoint_classifier\\keypoint_classifier.hdf5\n",
      "42/42 [==============================] - 0s 4ms/step - loss: 0.8039 - accuracy: 0.6898 - val_loss: 0.4327 - val_accuracy: 0.9008\n",
      "Epoch 137/1000\n",
      "30/42 [====================>.........] - ETA: 0s - loss: 0.8063 - accuracy: 0.6922\n",
      "Epoch 137: saving model to model/keypoint_classifier\\keypoint_classifier.hdf5\n",
      "42/42 [==============================] - 0s 4ms/step - loss: 0.8081 - accuracy: 0.6926 - val_loss: 0.4417 - val_accuracy: 0.8946\n",
      "Epoch 138/1000\n",
      "32/42 [=====================>........] - ETA: 0s - loss: 0.8034 - accuracy: 0.6882\n",
      "Epoch 138: saving model to model/keypoint_classifier\\keypoint_classifier.hdf5\n",
      "42/42 [==============================] - 0s 4ms/step - loss: 0.8007 - accuracy: 0.6913 - val_loss: 0.4533 - val_accuracy: 0.8963\n",
      "Epoch 139/1000\n",
      "33/42 [======================>.......] - ETA: 0s - loss: 0.8088 - accuracy: 0.6809\n",
      "Epoch 139: saving model to model/keypoint_classifier\\keypoint_classifier.hdf5\n",
      "42/42 [==============================] - 0s 3ms/step - loss: 0.8097 - accuracy: 0.6855 - val_loss: 0.4535 - val_accuracy: 0.8952\n",
      "Epoch 140/1000\n",
      "29/42 [===================>..........] - ETA: 0s - loss: 0.8269 - accuracy: 0.6767\n",
      "Epoch 140: saving model to model/keypoint_classifier\\keypoint_classifier.hdf5\n",
      "42/42 [==============================] - 0s 4ms/step - loss: 0.8112 - accuracy: 0.6855 - val_loss: 0.4569 - val_accuracy: 0.8918\n",
      "Epoch 141/1000\n",
      "27/42 [==================>...........] - ETA: 0s - loss: 0.8184 - accuracy: 0.6826\n",
      "Epoch 141: saving model to model/keypoint_classifier\\keypoint_classifier.hdf5\n",
      "42/42 [==============================] - 0s 4ms/step - loss: 0.8025 - accuracy: 0.6843 - val_loss: 0.4466 - val_accuracy: 0.8980\n",
      "Epoch 142/1000\n",
      "32/42 [=====================>........] - ETA: 0s - loss: 0.8005 - accuracy: 0.6909\n",
      "Epoch 142: saving model to model/keypoint_classifier\\keypoint_classifier.hdf5\n",
      "42/42 [==============================] - 0s 4ms/step - loss: 0.7991 - accuracy: 0.6917 - val_loss: 0.4585 - val_accuracy: 0.8890\n",
      "Epoch 143/1000\n",
      "30/42 [====================>.........] - ETA: 0s - loss: 0.8210 - accuracy: 0.6862\n",
      "Epoch 143: saving model to model/keypoint_classifier\\keypoint_classifier.hdf5\n",
      "42/42 [==============================] - 0s 4ms/step - loss: 0.8189 - accuracy: 0.6856 - val_loss: 0.4492 - val_accuracy: 0.8913\n",
      "Epoch 144/1000\n",
      "29/42 [===================>..........] - ETA: 0s - loss: 0.7801 - accuracy: 0.7010\n",
      "Epoch 144: saving model to model/keypoint_classifier\\keypoint_classifier.hdf5\n",
      "42/42 [==============================] - 0s 4ms/step - loss: 0.7931 - accuracy: 0.6960 - val_loss: 0.4349 - val_accuracy: 0.8958\n",
      "Epoch 145/1000\n",
      "28/42 [===================>..........] - ETA: 0s - loss: 0.7962 - accuracy: 0.6942\n",
      "Epoch 145: saving model to model/keypoint_classifier\\keypoint_classifier.hdf5\n",
      "42/42 [==============================] - 0s 4ms/step - loss: 0.7897 - accuracy: 0.6977 - val_loss: 0.4340 - val_accuracy: 0.9008\n",
      "Epoch 146/1000\n",
      "31/42 [=====================>........] - ETA: 0s - loss: 0.8107 - accuracy: 0.6852\n",
      "Epoch 146: saving model to model/keypoint_classifier\\keypoint_classifier.hdf5\n",
      "42/42 [==============================] - 0s 4ms/step - loss: 0.8058 - accuracy: 0.6866 - val_loss: 0.4496 - val_accuracy: 0.8885\n",
      "Epoch 147/1000\n",
      "34/42 [=======================>......] - ETA: 0s - loss: 0.7954 - accuracy: 0.6958\n",
      "Epoch 147: saving model to model/keypoint_classifier\\keypoint_classifier.hdf5\n",
      "42/42 [==============================] - 0s 4ms/step - loss: 0.7920 - accuracy: 0.6933 - val_loss: 0.4363 - val_accuracy: 0.9037\n",
      "Epoch 148/1000\n",
      "35/42 [========================>.....] - ETA: 0s - loss: 0.8106 - accuracy: 0.6917\n",
      "Epoch 148: saving model to model/keypoint_classifier\\keypoint_classifier.hdf5\n",
      "42/42 [==============================] - 0s 3ms/step - loss: 0.8114 - accuracy: 0.6907 - val_loss: 0.4487 - val_accuracy: 0.9020\n",
      "Epoch 149/1000\n",
      "33/42 [======================>.......] - ETA: 0s - loss: 0.7770 - accuracy: 0.7034\n",
      "Epoch 149: saving model to model/keypoint_classifier\\keypoint_classifier.hdf5\n",
      "42/42 [==============================] - 0s 4ms/step - loss: 0.7738 - accuracy: 0.7041 - val_loss: 0.4461 - val_accuracy: 0.8935\n",
      "Epoch 150/1000\n",
      "30/42 [====================>.........] - ETA: 0s - loss: 0.8076 - accuracy: 0.6927\n",
      "Epoch 150: saving model to model/keypoint_classifier\\keypoint_classifier.hdf5\n",
      "42/42 [==============================] - 0s 4ms/step - loss: 0.7995 - accuracy: 0.6900 - val_loss: 0.4443 - val_accuracy: 0.8969\n",
      "Epoch 151/1000\n",
      "27/42 [==================>...........] - ETA: 0s - loss: 0.8267 - accuracy: 0.6913\n",
      "Epoch 151: saving model to model/keypoint_classifier\\keypoint_classifier.hdf5\n",
      "42/42 [==============================] - 0s 4ms/step - loss: 0.8075 - accuracy: 0.6928 - val_loss: 0.4301 - val_accuracy: 0.9054\n",
      "Epoch 152/1000\n",
      "33/42 [======================>.......] - ETA: 0s - loss: 0.7846 - accuracy: 0.7005\n",
      "Epoch 152: saving model to model/keypoint_classifier\\keypoint_classifier.hdf5\n",
      "42/42 [==============================] - 0s 4ms/step - loss: 0.7868 - accuracy: 0.7033 - val_loss: 0.4557 - val_accuracy: 0.8851\n",
      "Epoch 153/1000\n",
      "35/42 [========================>.....] - ETA: 0s - loss: 0.7888 - accuracy: 0.6935\n",
      "Epoch 153: saving model to model/keypoint_classifier\\keypoint_classifier.hdf5\n",
      "42/42 [==============================] - 0s 3ms/step - loss: 0.7945 - accuracy: 0.6926 - val_loss: 0.4299 - val_accuracy: 0.8997\n",
      "Epoch 154/1000\n",
      "33/42 [======================>.......] - ETA: 0s - loss: 0.7778 - accuracy: 0.7000\n",
      "Epoch 154: saving model to model/keypoint_classifier\\keypoint_classifier.hdf5\n",
      "42/42 [==============================] - 0s 4ms/step - loss: 0.7788 - accuracy: 0.6997 - val_loss: 0.4525 - val_accuracy: 0.8918\n",
      "Epoch 155/1000\n",
      "37/42 [=========================>....] - ETA: 0s - loss: 0.7795 - accuracy: 0.7038\n",
      "Epoch 155: saving model to model/keypoint_classifier\\keypoint_classifier.hdf5\n",
      "42/42 [==============================] - 0s 4ms/step - loss: 0.7831 - accuracy: 0.7024 - val_loss: 0.4321 - val_accuracy: 0.9042\n",
      "Epoch 156/1000\n",
      "33/42 [======================>.......] - ETA: 0s - loss: 0.7870 - accuracy: 0.7060\n",
      "Epoch 156: saving model to model/keypoint_classifier\\keypoint_classifier.hdf5\n",
      "42/42 [==============================] - 0s 3ms/step - loss: 0.7912 - accuracy: 0.7035 - val_loss: 0.4282 - val_accuracy: 0.8930\n",
      "Epoch 157/1000\n",
      "30/42 [====================>.........] - ETA: 0s - loss: 0.7851 - accuracy: 0.6982\n",
      "Epoch 157: saving model to model/keypoint_classifier\\keypoint_classifier.hdf5\n",
      "42/42 [==============================] - 0s 4ms/step - loss: 0.7825 - accuracy: 0.7001 - val_loss: 0.4381 - val_accuracy: 0.8997\n",
      "Epoch 158/1000\n",
      "33/42 [======================>.......] - ETA: 0s - loss: 0.8009 - accuracy: 0.6948\n",
      "Epoch 158: saving model to model/keypoint_classifier\\keypoint_classifier.hdf5\n",
      "42/42 [==============================] - 0s 4ms/step - loss: 0.8002 - accuracy: 0.6922 - val_loss: 0.4520 - val_accuracy: 0.8980\n",
      "Epoch 159/1000\n",
      "32/42 [=====================>........] - ETA: 0s - loss: 0.7703 - accuracy: 0.7078\n",
      "Epoch 159: saving model to model/keypoint_classifier\\keypoint_classifier.hdf5\n",
      "42/42 [==============================] - 0s 3ms/step - loss: 0.7684 - accuracy: 0.7091 - val_loss: 0.4297 - val_accuracy: 0.9008\n",
      "Epoch 160/1000\n",
      "28/42 [===================>..........] - ETA: 0s - loss: 0.7897 - accuracy: 0.7012\n",
      "Epoch 160: saving model to model/keypoint_classifier\\keypoint_classifier.hdf5\n",
      "42/42 [==============================] - 0s 4ms/step - loss: 0.7788 - accuracy: 0.7024 - val_loss: 0.4315 - val_accuracy: 0.9042\n",
      "Epoch 161/1000\n",
      "30/42 [====================>.........] - ETA: 0s - loss: 0.7816 - accuracy: 0.6956\n",
      "Epoch 161: saving model to model/keypoint_classifier\\keypoint_classifier.hdf5\n",
      "42/42 [==============================] - 0s 4ms/step - loss: 0.7934 - accuracy: 0.6888 - val_loss: 0.4503 - val_accuracy: 0.8839\n",
      "Epoch 162/1000\n",
      "26/42 [=================>............] - ETA: 0s - loss: 0.7902 - accuracy: 0.6887\n",
      "Epoch 162: saving model to model/keypoint_classifier\\keypoint_classifier.hdf5\n",
      "42/42 [==============================] - 0s 4ms/step - loss: 0.7818 - accuracy: 0.6956 - val_loss: 0.4513 - val_accuracy: 0.8907\n",
      "Epoch 163/1000\n",
      "30/42 [====================>.........] - ETA: 0s - loss: 0.7946 - accuracy: 0.6938\n",
      "Epoch 163: saving model to model/keypoint_classifier\\keypoint_classifier.hdf5\n",
      "42/42 [==============================] - 0s 4ms/step - loss: 0.7897 - accuracy: 0.6994 - val_loss: 0.4456 - val_accuracy: 0.8868\n",
      "Epoch 164/1000\n",
      "26/42 [=================>............] - ETA: 0s - loss: 0.7550 - accuracy: 0.7061\n",
      "Epoch 164: saving model to model/keypoint_classifier\\keypoint_classifier.hdf5\n",
      "42/42 [==============================] - 0s 4ms/step - loss: 0.7753 - accuracy: 0.7027 - val_loss: 0.4316 - val_accuracy: 0.8879\n",
      "Epoch 165/1000\n",
      "32/42 [=====================>........] - ETA: 0s - loss: 0.7888 - accuracy: 0.6992\n",
      "Epoch 165: saving model to model/keypoint_classifier\\keypoint_classifier.hdf5\n",
      "42/42 [==============================] - 0s 4ms/step - loss: 0.7778 - accuracy: 0.7018 - val_loss: 0.4418 - val_accuracy: 0.8885\n",
      "Epoch 166/1000\n",
      "32/42 [=====================>........] - ETA: 0s - loss: 0.7889 - accuracy: 0.6953\n",
      "Epoch 166: saving model to model/keypoint_classifier\\keypoint_classifier.hdf5\n",
      "42/42 [==============================] - 0s 4ms/step - loss: 0.7975 - accuracy: 0.6950 - val_loss: 0.4436 - val_accuracy: 0.8862\n",
      "Epoch 167/1000\n",
      "30/42 [====================>.........] - ETA: 0s - loss: 0.7504 - accuracy: 0.7164\n",
      "Epoch 167: saving model to model/keypoint_classifier\\keypoint_classifier.hdf5\n",
      "42/42 [==============================] - 0s 4ms/step - loss: 0.7695 - accuracy: 0.7093 - val_loss: 0.4280 - val_accuracy: 0.8918\n",
      "Epoch 168/1000\n",
      "30/42 [====================>.........] - ETA: 0s - loss: 0.7855 - accuracy: 0.6971\n",
      "Epoch 168: saving model to model/keypoint_classifier\\keypoint_classifier.hdf5\n",
      "42/42 [==============================] - 0s 4ms/step - loss: 0.7842 - accuracy: 0.6962 - val_loss: 0.4451 - val_accuracy: 0.8834\n",
      "Epoch 169/1000\n",
      "26/42 [=================>............] - ETA: 0s - loss: 0.7747 - accuracy: 0.6977\n",
      "Epoch 169: saving model to model/keypoint_classifier\\keypoint_classifier.hdf5\n",
      "42/42 [==============================] - 0s 4ms/step - loss: 0.7908 - accuracy: 0.6956 - val_loss: 0.4450 - val_accuracy: 0.8823\n",
      "Epoch 170/1000\n",
      "30/42 [====================>.........] - ETA: 0s - loss: 0.7736 - accuracy: 0.7029\n",
      "Epoch 170: saving model to model/keypoint_classifier\\keypoint_classifier.hdf5\n",
      "42/42 [==============================] - 0s 4ms/step - loss: 0.7783 - accuracy: 0.7022 - val_loss: 0.4443 - val_accuracy: 0.8969\n",
      "Epoch 171/1000\n",
      "30/42 [====================>.........] - ETA: 0s - loss: 0.7770 - accuracy: 0.7122\n",
      "Epoch 171: saving model to model/keypoint_classifier\\keypoint_classifier.hdf5\n",
      "42/42 [==============================] - 0s 4ms/step - loss: 0.7808 - accuracy: 0.7039 - val_loss: 0.4403 - val_accuracy: 0.8845\n",
      "Epoch 172/1000\n",
      "33/42 [======================>.......] - ETA: 0s - loss: 0.7839 - accuracy: 0.6941\n",
      "Epoch 172: saving model to model/keypoint_classifier\\keypoint_classifier.hdf5\n",
      "42/42 [==============================] - 0s 4ms/step - loss: 0.7931 - accuracy: 0.6907 - val_loss: 0.4593 - val_accuracy: 0.8800\n",
      "Epoch 173/1000\n",
      "28/42 [===================>..........] - ETA: 0s - loss: 0.8032 - accuracy: 0.6906\n",
      "Epoch 173: saving model to model/keypoint_classifier\\keypoint_classifier.hdf5\n",
      "42/42 [==============================] - 0s 4ms/step - loss: 0.7962 - accuracy: 0.6933 - val_loss: 0.4483 - val_accuracy: 0.8868\n",
      "Epoch 174/1000\n",
      "23/42 [===============>..............] - ETA: 0s - loss: 0.8006 - accuracy: 0.6967\n",
      "Epoch 174: saving model to model/keypoint_classifier\\keypoint_classifier.hdf5\n",
      "42/42 [==============================] - 0s 5ms/step - loss: 0.7842 - accuracy: 0.7016 - val_loss: 0.4365 - val_accuracy: 0.8946\n",
      "Epoch 175/1000\n",
      "30/42 [====================>.........] - ETA: 0s - loss: 0.7737 - accuracy: 0.7078\n",
      "Epoch 175: saving model to model/keypoint_classifier\\keypoint_classifier.hdf5\n",
      "42/42 [==============================] - 0s 4ms/step - loss: 0.7770 - accuracy: 0.7078 - val_loss: 0.4381 - val_accuracy: 0.8890\n",
      "Epoch 176/1000\n",
      "33/42 [======================>.......] - ETA: 0s - loss: 0.7692 - accuracy: 0.7031\n",
      "Epoch 176: saving model to model/keypoint_classifier\\keypoint_classifier.hdf5\n",
      "42/42 [==============================] - 0s 4ms/step - loss: 0.7820 - accuracy: 0.6997 - val_loss: 0.4353 - val_accuracy: 0.8896\n",
      "Epoch 177/1000\n",
      "31/42 [=====================>........] - ETA: 0s - loss: 0.7659 - accuracy: 0.7099\n",
      "Epoch 177: saving model to model/keypoint_classifier\\keypoint_classifier.hdf5\n",
      "42/42 [==============================] - 0s 4ms/step - loss: 0.7796 - accuracy: 0.7061 - val_loss: 0.4215 - val_accuracy: 0.9014\n",
      "Epoch 178/1000\n",
      "27/42 [==================>...........] - ETA: 0s - loss: 0.7859 - accuracy: 0.7011\n",
      "Epoch 178: saving model to model/keypoint_classifier\\keypoint_classifier.hdf5\n",
      "42/42 [==============================] - 0s 4ms/step - loss: 0.7810 - accuracy: 0.6994 - val_loss: 0.4399 - val_accuracy: 0.8856\n",
      "Epoch 179/1000\n",
      "31/42 [=====================>........] - ETA: 0s - loss: 0.7891 - accuracy: 0.7029\n",
      "Epoch 179: saving model to model/keypoint_classifier\\keypoint_classifier.hdf5\n",
      "42/42 [==============================] - 0s 4ms/step - loss: 0.7857 - accuracy: 0.6988 - val_loss: 0.4237 - val_accuracy: 0.8952\n",
      "Epoch 180/1000\n",
      "28/42 [===================>..........] - ETA: 0s - loss: 0.7535 - accuracy: 0.7051\n",
      "Epoch 180: saving model to model/keypoint_classifier\\keypoint_classifier.hdf5\n",
      "42/42 [==============================] - 0s 4ms/step - loss: 0.7661 - accuracy: 0.7048 - val_loss: 0.4315 - val_accuracy: 0.8817\n",
      "Epoch 181/1000\n",
      "31/42 [=====================>........] - ETA: 0s - loss: 0.7714 - accuracy: 0.7051\n",
      "Epoch 181: saving model to model/keypoint_classifier\\keypoint_classifier.hdf5\n",
      "42/42 [==============================] - 0s 4ms/step - loss: 0.7878 - accuracy: 0.6960 - val_loss: 0.4194 - val_accuracy: 0.8963\n",
      "Epoch 182/1000\n",
      "29/42 [===================>..........] - ETA: 0s - loss: 0.7757 - accuracy: 0.7012\n",
      "Epoch 182: saving model to model/keypoint_classifier\\keypoint_classifier.hdf5\n",
      "42/42 [==============================] - 0s 4ms/step - loss: 0.7843 - accuracy: 0.6964 - val_loss: 0.4373 - val_accuracy: 0.8901\n",
      "Epoch 183/1000\n",
      "26/42 [=================>............] - ETA: 0s - loss: 0.7747 - accuracy: 0.6956\n",
      "Epoch 183: saving model to model/keypoint_classifier\\keypoint_classifier.hdf5\n",
      "42/42 [==============================] - 0s 4ms/step - loss: 0.7809 - accuracy: 0.6954 - val_loss: 0.4250 - val_accuracy: 0.8946\n",
      "Epoch 184/1000\n",
      "39/42 [==========================>...] - ETA: 0s - loss: 0.7905 - accuracy: 0.6995\n",
      "Epoch 184: saving model to model/keypoint_classifier\\keypoint_classifier.hdf5\n",
      "42/42 [==============================] - 0s 3ms/step - loss: 0.7892 - accuracy: 0.6994 - val_loss: 0.4387 - val_accuracy: 0.8935\n",
      "Epoch 185/1000\n",
      "40/42 [===========================>..] - ETA: 0s - loss: 0.7724 - accuracy: 0.7074\n",
      "Epoch 185: saving model to model/keypoint_classifier\\keypoint_classifier.hdf5\n",
      "42/42 [==============================] - 0s 3ms/step - loss: 0.7750 - accuracy: 0.7052 - val_loss: 0.4354 - val_accuracy: 0.8901\n",
      "Epoch 186/1000\n",
      "36/42 [========================>.....] - ETA: 0s - loss: 0.7753 - accuracy: 0.7010\n",
      "Epoch 186: saving model to model/keypoint_classifier\\keypoint_classifier.hdf5\n",
      "42/42 [==============================] - 0s 4ms/step - loss: 0.7729 - accuracy: 0.7029 - val_loss: 0.4355 - val_accuracy: 0.8868\n",
      "Epoch 187/1000\n",
      "25/42 [================>.............] - ETA: 0s - loss: 0.7742 - accuracy: 0.7125\n",
      "Epoch 187: saving model to model/keypoint_classifier\\keypoint_classifier.hdf5\n",
      "42/42 [==============================] - 0s 4ms/step - loss: 0.7653 - accuracy: 0.7110 - val_loss: 0.4291 - val_accuracy: 0.8890\n",
      "Epoch 188/1000\n",
      "30/42 [====================>.........] - ETA: 0s - loss: 0.7839 - accuracy: 0.7018\n",
      "Epoch 188: saving model to model/keypoint_classifier\\keypoint_classifier.hdf5\n",
      "42/42 [==============================] - 0s 4ms/step - loss: 0.7843 - accuracy: 0.7046 - val_loss: 0.4325 - val_accuracy: 0.8879\n",
      "Epoch 189/1000\n",
      "33/42 [======================>.......] - ETA: 0s - loss: 0.7918 - accuracy: 0.6922\n",
      "Epoch 189: saving model to model/keypoint_classifier\\keypoint_classifier.hdf5\n",
      "42/42 [==============================] - 0s 4ms/step - loss: 0.7890 - accuracy: 0.6924 - val_loss: 0.4385 - val_accuracy: 0.8828\n",
      "Epoch 190/1000\n",
      "33/42 [======================>.......] - ETA: 0s - loss: 0.7908 - accuracy: 0.7000\n",
      "Epoch 190: saving model to model/keypoint_classifier\\keypoint_classifier.hdf5\n",
      "42/42 [==============================] - 0s 3ms/step - loss: 0.7858 - accuracy: 0.7011 - val_loss: 0.4471 - val_accuracy: 0.8924\n",
      "Epoch 191/1000\n",
      "26/42 [=================>............] - ETA: 0s - loss: 0.7941 - accuracy: 0.6968\n",
      "Epoch 191: saving model to model/keypoint_classifier\\keypoint_classifier.hdf5\n",
      "42/42 [==============================] - 0s 4ms/step - loss: 0.7703 - accuracy: 0.7037 - val_loss: 0.4294 - val_accuracy: 0.8997\n",
      "Epoch 192/1000\n",
      "30/42 [====================>.........] - ETA: 0s - loss: 0.7451 - accuracy: 0.7130\n",
      "Epoch 192: saving model to model/keypoint_classifier\\keypoint_classifier.hdf5\n",
      "42/42 [==============================] - 0s 4ms/step - loss: 0.7649 - accuracy: 0.7024 - val_loss: 0.4528 - val_accuracy: 0.8772\n",
      "Epoch 193/1000\n",
      "31/42 [=====================>........] - ETA: 0s - loss: 0.7664 - accuracy: 0.7016\n",
      "Epoch 193: saving model to model/keypoint_classifier\\keypoint_classifier.hdf5\n",
      "42/42 [==============================] - 0s 4ms/step - loss: 0.7636 - accuracy: 0.7048 - val_loss: 0.4288 - val_accuracy: 0.8969\n",
      "Epoch 194/1000\n",
      "30/42 [====================>.........] - ETA: 0s - loss: 0.7836 - accuracy: 0.6971\n",
      "Epoch 194: saving model to model/keypoint_classifier\\keypoint_classifier.hdf5\n",
      "42/42 [==============================] - 0s 4ms/step - loss: 0.7867 - accuracy: 0.6964 - val_loss: 0.4409 - val_accuracy: 0.8901\n",
      "Epoch 195/1000\n",
      "30/42 [====================>.........] - ETA: 0s - loss: 0.7847 - accuracy: 0.6958\n",
      "Epoch 195: saving model to model/keypoint_classifier\\keypoint_classifier.hdf5\n",
      "42/42 [==============================] - 0s 4ms/step - loss: 0.7749 - accuracy: 0.6947 - val_loss: 0.4244 - val_accuracy: 0.9003\n",
      "Epoch 196/1000\n",
      "32/42 [=====================>........] - ETA: 0s - loss: 0.7955 - accuracy: 0.6907\n",
      "Epoch 196: saving model to model/keypoint_classifier\\keypoint_classifier.hdf5\n",
      "42/42 [==============================] - 0s 4ms/step - loss: 0.7863 - accuracy: 0.6973 - val_loss: 0.4523 - val_accuracy: 0.8851\n",
      "Epoch 197/1000\n",
      "32/42 [=====================>........] - ETA: 0s - loss: 0.7799 - accuracy: 0.7053\n",
      "Epoch 197: saving model to model/keypoint_classifier\\keypoint_classifier.hdf5\n",
      "42/42 [==============================] - 0s 4ms/step - loss: 0.7870 - accuracy: 0.7018 - val_loss: 0.4368 - val_accuracy: 0.8952\n",
      "Epoch 198/1000\n",
      "33/42 [======================>.......] - ETA: 0s - loss: 0.7525 - accuracy: 0.7150\n",
      "Epoch 198: saving model to model/keypoint_classifier\\keypoint_classifier.hdf5\n",
      "42/42 [==============================] - 0s 4ms/step - loss: 0.7543 - accuracy: 0.7101 - val_loss: 0.4345 - val_accuracy: 0.8873\n",
      "Epoch 199/1000\n",
      "30/42 [====================>.........] - ETA: 0s - loss: 0.7797 - accuracy: 0.7042\n",
      "Epoch 199: saving model to model/keypoint_classifier\\keypoint_classifier.hdf5\n",
      "42/42 [==============================] - 0s 4ms/step - loss: 0.7709 - accuracy: 0.7061 - val_loss: 0.4329 - val_accuracy: 0.8924\n",
      "Epoch 200/1000\n",
      "30/42 [====================>.........] - ETA: 0s - loss: 0.7590 - accuracy: 0.7195\n",
      "Epoch 200: saving model to model/keypoint_classifier\\keypoint_classifier.hdf5\n",
      "42/42 [==============================] - 0s 4ms/step - loss: 0.7712 - accuracy: 0.7099 - val_loss: 0.4215 - val_accuracy: 0.8997\n",
      "Epoch 201/1000\n",
      "28/42 [===================>..........] - ETA: 0s - loss: 0.7647 - accuracy: 0.7034\n",
      "Epoch 201: saving model to model/keypoint_classifier\\keypoint_classifier.hdf5\n",
      "42/42 [==============================] - 0s 4ms/step - loss: 0.7586 - accuracy: 0.7084 - val_loss: 0.4363 - val_accuracy: 0.8856\n",
      "Epoch 201: early stopping\n"
     ]
    },
    {
     "data": {
      "text/plain": [
       "<keras.src.callbacks.History at 0x173793a3190>"
      ]
     },
     "execution_count": 11,
     "metadata": {},
     "output_type": "execute_result"
    }
   ],
   "source": [
    "model.fit(\n",
    "    X_train,\n",
    "    y_train,\n",
    "    epochs=1000,\n",
    "    batch_size=128,\n",
    "    validation_data=(X_test, y_test),\n",
    "    callbacks=[cp_callback, es_callback]\n",
    ")"
   ]
  },
  {
   "cell_type": "code",
   "execution_count": 12,
   "metadata": {
    "colab": {
     "base_uri": "https://localhost:8080/"
    },
    "id": "pxvb2Y299hE3",
    "outputId": "59eb3185-2e37-4b9e-bc9d-ab1b8ac29b7f"
   },
   "outputs": [
    {
     "name": "stdout",
     "output_type": "stream",
     "text": [
      "14/14 [==============================] - 0s 1ms/step - loss: 0.4363 - accuracy: 0.8856\n"
     ]
    }
   ],
   "source": [
    "# Model evaluation\n",
    "val_loss, val_acc = model.evaluate(X_test, y_test, batch_size=128)"
   ]
  },
  {
   "cell_type": "code",
   "execution_count": 13,
   "metadata": {
    "id": "RBkmDeUW9hE4"
   },
   "outputs": [],
   "source": [
    "# Loading the saved model\n",
    "model = tf.keras.models.load_model(model_save_path)"
   ]
  },
  {
   "cell_type": "code",
   "execution_count": 14,
   "metadata": {
    "colab": {
     "base_uri": "https://localhost:8080/"
    },
    "id": "tFz9Tb0I9hE4",
    "outputId": "1c3b3528-54ae-4ee2-ab04-77429211cbef"
   },
   "outputs": [
    {
     "name": "stdout",
     "output_type": "stream",
     "text": [
      "1/1 [==============================] - 0s 139ms/step\n",
      "[0.08032028 0.10947573 0.5099715  0.01029692 0.00867388 0.01084346\n",
      " 0.27041817]\n",
      "2\n"
     ]
    }
   ],
   "source": [
    "# Inference test\n",
    "predict_result = model.predict(np.array([X_test[0]]))\n",
    "print(np.squeeze(predict_result))\n",
    "print(np.argmax(np.squeeze(predict_result)))"
   ]
  },
  {
   "cell_type": "markdown",
   "metadata": {
    "id": "S3U4yNWx9hE4"
   },
   "source": [
    "# Confusion matrix"
   ]
  },
  {
   "cell_type": "code",
   "execution_count": 15,
   "metadata": {
    "colab": {
     "base_uri": "https://localhost:8080/",
     "height": 582
    },
    "id": "AP1V6SCk9hE5",
    "outputId": "08e41a80-7a4a-4619-8125-ecc371368d19"
   },
   "outputs": [
    {
     "name": "stdout",
     "output_type": "stream",
     "text": [
      "56/56 [==============================] - 0s 821us/step\n"
     ]
    },
    {
     "data": {
      "image/png": "[encoded data removed]",
      "text/plain": [
       "<Figure size 700x600 with 2 Axes>"
      ]
     },
     "metadata": {},
     "output_type": "display_data"
    },
    {
     "name": "stdout",
     "output_type": "stream",
     "text": [
      "Classification Report\n",
      "              precision    recall  f1-score   support\n",
      "\n",
      "           0       0.96      0.87      0.92       455\n",
      "           1       0.87      0.78      0.82       368\n",
      "           2       0.89      0.96      0.93       344\n",
      "           3       0.78      0.95      0.86       173\n",
      "           4       0.86      0.97      0.91       189\n",
      "           5       0.82      0.78      0.80       138\n",
      "           6       0.95      0.96      0.95       108\n",
      "\n",
      "    accuracy                           0.89      1775\n",
      "   macro avg       0.88      0.90      0.88      1775\n",
      "weighted avg       0.89      0.89      0.88      1775\n",
      "\n"
     ]
    }
   ],
   "source": [
    "import pandas as pd\n",
    "import seaborn as sns\n",
    "import matplotlib.pyplot as plt\n",
    "from sklearn.metrics import confusion_matrix, classification_report\n",
    "\n",
    "def print_confusion_matrix(y_true, y_pred, report=True):\n",
    "    labels = sorted(list(set(y_true)))\n",
    "    cmx_data = confusion_matrix(y_true, y_pred, labels=labels)\n",
    "    \n",
    "    df_cmx = pd.DataFrame(cmx_data, index=labels, columns=labels)\n",
    " \n",
    "    fig, ax = plt.subplots(figsize=(7, 6))\n",
    "    sns.heatmap(df_cmx, annot=True, fmt='g' ,square=False)\n",
    "    ax.set_ylim(len(set(y_true)), 0)\n",
    "    plt.show()\n",
    "    \n",
    "    if report:\n",
    "        print('Classification Report')\n",
    "        print(classification_report(y_test, y_pred))\n",
    "\n",
    "Y_pred = model.predict(X_test)\n",
    "y_pred = np.argmax(Y_pred, axis=1)\n",
    "\n",
    "print_confusion_matrix(y_test, y_pred)"
   ]
  },
  {
   "cell_type": "markdown",
   "metadata": {
    "id": "FNP6aqzc9hE5"
   },
   "source": [
    "# Convert to model for Tensorflow-Lite"
   ]
  },
  {
   "cell_type": "code",
   "execution_count": 16,
   "metadata": {
    "id": "ODjnYyld9hE6"
   },
   "outputs": [
    {
     "name": "stderr",
     "output_type": "stream",
     "text": [
      "c:\\program files\\python38\\lib\\site-packages\\keras\\src\\engine\\training.py:3000: UserWarning: You are saving your model as an HDF5 file via `model.save()`. This file format is considered legacy. We recommend using instead the native Keras format, e.g. `model.save('my_model.keras')`.\n",
      "  saving_api.save_model(\n"
     ]
    }
   ],
   "source": [
    "# Save as a model dedicated to inference\n",
    "model.save(model_save_path, include_optimizer=False)"
   ]
  },
  {
   "cell_type": "code",
   "execution_count": 17,
   "metadata": {
    "colab": {
     "base_uri": "https://localhost:8080/"
    },
    "id": "zRfuK8Y59hE6",
    "outputId": "a4ca585c-b5d5-4244-8291-8674063209bb"
   },
   "outputs": [
    {
     "name": "stdout",
     "output_type": "stream",
     "text": [
      "INFO:tensorflow:Assets written to: C:\\Users\\ionol\\AppData\\Local\\Temp\\tmpbkjupl1p\\assets\n"
     ]
    },
    {
     "name": "stderr",
     "output_type": "stream",
     "text": [
      "INFO:tensorflow:Assets written to: C:\\Users\\ionol\\AppData\\Local\\Temp\\tmpbkjupl1p\\assets\n"
     ]
    },
    {
     "data": {
      "text/plain": [
       "6676"
      ]
     },
     "execution_count": 17,
     "metadata": {},
     "output_type": "execute_result"
    }
   ],
   "source": [
    "# Transform model (quantization)\n",
    "\n",
    "converter = tf.lite.TFLiteConverter.from_keras_model(model)\n",
    "converter.optimizations = [tf.lite.Optimize.DEFAULT]\n",
    "tflite_quantized_model = converter.convert()\n",
    "\n",
    "open(tflite_save_path, 'wb').write(tflite_quantized_model)"
   ]
  },
  {
   "cell_type": "markdown",
   "metadata": {
    "id": "CHBPBXdx9hE6"
   },
   "source": [
    "# Inference test"
   ]
  },
  {
   "cell_type": "code",
   "execution_count": 18,
   "metadata": {
    "id": "mGAzLocO9hE7"
   },
   "outputs": [],
   "source": [
    "interpreter = tf.lite.Interpreter(model_path=tflite_save_path)\n",
    "interpreter.allocate_tensors()"
   ]
  },
  {
   "cell_type": "code",
   "execution_count": 19,
   "metadata": {
    "id": "oQuDK8YS9hE7"
   },
   "outputs": [],
   "source": [
    "# Get I / O tensor\n",
    "input_details = interpreter.get_input_details()\n",
    "output_details = interpreter.get_output_details()"
   ]
  },
  {
   "cell_type": "code",
   "execution_count": 20,
   "metadata": {
    "id": "2_ixAf_l9hE7"
   },
   "outputs": [],
   "source": [
    "interpreter.set_tensor(input_details[0]['index'], np.array([X_test[0]]))"
   ]
  },
  {
   "cell_type": "code",
   "execution_count": 21,
   "metadata": {
    "colab": {
     "base_uri": "https://localhost:8080/"
    },
    "id": "s4FoAnuc9hE7",
    "outputId": "91f18257-8d8b-4ef3-c558-e9b5f94fabbf",
    "scrolled": true
   },
   "outputs": [
    {
     "name": "stdout",
     "output_type": "stream",
     "text": [
      "CPU times: total: 0 ns\n",
      "Wall time: 0 ns\n"
     ]
    }
   ],
   "source": [
    "%%time\n",
    "# Inference implementation\n",
    "interpreter.invoke()\n",
    "tflite_results = interpreter.get_tensor(output_details[0]['index'])"
   ]
  },
  {
   "cell_type": "code",
   "execution_count": 22,
   "metadata": {
    "colab": {
     "base_uri": "https://localhost:8080/"
    },
    "id": "vONjp19J9hE8",
    "outputId": "77205e24-fd00-42c4-f7b6-e06e527c2cba"
   },
   "outputs": [
    {
     "name": "stdout",
     "output_type": "stream",
     "text": [
      "[0.08032032 0.10947574 0.50997144 0.01029693 0.00867388 0.01084346\n",
      " 0.2704183 ]\n",
      "2\n"
     ]
    }
   ],
   "source": [
    "print(np.squeeze(tflite_results))\n",
    "print(np.argmax(np.squeeze(tflite_results)))"
   ]
  }
 ],
 "metadata": {
  "accelerator": "GPU",
  "colab": {
   "collapsed_sections": [],
   "name": "keypoint_classification_EN.ipynb",
   "provenance": [],
   "toc_visible": true
  },
  "kernelspec": {
   "display_name": "Python 3 (ipykernel)",
   "language": "python",
   "name": "python3"
  },
  "language_info": {
   "codemirror_mode": {
    "name": "ipython",
    "version": 3
   },
   "file_extension": ".py",
   "mimetype": "text/x-python",
   "name": "python",
   "nbconvert_exporter": "python",
   "pygments_lexer": "ipython3",
   "version": "3.8.0"
  }
 },
 "nbformat": 4,
 "nbformat_minor": 4
}
